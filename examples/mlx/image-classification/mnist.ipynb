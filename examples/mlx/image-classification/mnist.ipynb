{
 "cells": [
  {
   "cell_type": "markdown",
   "id": "629c902e-6cd0-4475-b6ce-5d6e37d7e2f3",
   "metadata": {},
   "source": [
    "# Distributed MNIST with MLX and Kubeflow Trainer\n",
    "\n",
    "This Notebook will show how to run distributed MLX on Kubernetes with Kubeflow Trainer.\n",
    "\n",
    "The MLX runtime uses `mlx[cuda]` package to run distributed training on GPUs.\n",
    "\n",
    "MLX Distributed: https://ml-explore.github.io/mlx/build/html/usage/distributed.html"
   ]
  },
  {
   "cell_type": "markdown",
   "id": "3cb9ab4c8e12221a",
   "metadata": {},
   "source": [
    "## Install the Kubeflow SDK\n",
    "\n",
    "You need to install the Kubeflow SDK to interact with Kubeflow Trainer APIs:"
   ]
  },
  {
   "cell_type": "code",
   "execution_count": null,
   "id": "bd62189280760f42",
   "metadata": {},
   "outputs": [],
   "source": [
    "# !pip install -U kubeflow"
   ]
  },
  {
   "cell_type": "markdown",
   "id": "143ab709-ba3c-41b2-8afa-983b1b6b6d06",
   "metadata": {},
   "source": [
    "## Install the MLX Dependencies\n",
    "\n",
    "You also need to install MLX packages to evaluate the trained model."
   ]
  },
  {
   "cell_type": "code",
   "execution_count": null,
   "id": "f8719fe2-a033-486b-80d6-13d5e4e4d752",
   "metadata": {},
   "outputs": [],
   "source": [
    "!pip install \"mlx>=0.28.0\"\n",
    "!pip install \"mlx-data>=0.1.0\"\n",
    "!pip install \"matplotlib>=3.10.5\""
   ]
  },
  {
   "cell_type": "markdown",
   "id": "b5ad0e01-d893-484c-8988-d25c2f322b80",
   "metadata": {},
   "source": [
    "## Create MLX training script\n",
    "\n",
    "We need to wrap our training script into a function to create Kubeflow TrainJob.\n",
    "\n",
    "This is the simple MLP model to recognize digits from the MNIST dataset."
   ]
  },
  {
   "cell_type": "code",
   "execution_count": 1,
   "id": "57952ce1-5752-4976-8a35-c71d25935b74",
   "metadata": {
    "execution": {
     "iopub.execute_input": "2025-10-18T00:21:01.668317Z",
     "iopub.status.busy": "2025-10-18T00:21:01.667831Z",
     "iopub.status.idle": "2025-10-18T00:21:01.689055Z",
     "shell.execute_reply": "2025-10-18T00:21:01.688660Z",
     "shell.execute_reply.started": "2025-10-18T00:21:01.668293Z"
    }
   },
   "outputs": [],
   "source": [
    "def mlx_train_mnist(bucket: str, model_name: str):\n",
    "    import time\n",
    "    from functools import partial\n",
    "    import mlx.core as mx\n",
    "    import mlx.nn as nn\n",
    "    import mlx.optimizers as optim\n",
    "    from mlx.data.datasets import load_mnist\n",
    "    import boto3\n",
    "\n",
    "    # Define a simple MLP model with MLX.\n",
    "    class MLP(nn.Module):\n",
    "        def __init__(\n",
    "            self, in_dims: int, hidden_dims: int, num_layers: int, out_dims: int\n",
    "        ):\n",
    "            super().__init__()\n",
    "            layer_sizes = [in_dims] + [hidden_dims] * num_layers + [out_dims]\n",
    "            self.layers = [\n",
    "                nn.Linear(idim, odim)\n",
    "                for idim, odim in zip(layer_sizes[:-1], layer_sizes[1:])\n",
    "            ]\n",
    "\n",
    "        def __call__(self, x):\n",
    "            for layer in self.layers[:-1]:\n",
    "                x = nn.relu(layer(x))\n",
    "            return self.layers[-1](x)\n",
    "\n",
    "    # Initializer MLX distributed backend.\n",
    "    dist = mx.distributed.init(strict=True, backend=\"mpi\")\n",
    "    world_size = dist.size()\n",
    "    rank = dist.rank()\n",
    "    print(f\"Start Distributed Training, WORLD_SIZE: {world_size}, RANK: {rank}\")\n",
    "\n",
    "    if rank == 0:\n",
    "        print(\"Download MNIST dataset\")\n",
    "\n",
    "    # Load MNIST dataset and partition it.\n",
    "    BATCH_SIZE = 128\n",
    "    train_dataset = load_mnist()\n",
    "\n",
    "    distributed_ds = (\n",
    "        train_dataset.shuffle()\n",
    "        .partition_if(world_size > 1, world_size, rank)\n",
    "        .key_transform(\"image\", lambda x: (x.astype(\"float32\") / 255.0).ravel())\n",
    "    )\n",
    "\n",
    "    # Create the MLP model and SGD optimizer\n",
    "    model = MLP(\n",
    "        in_dims=distributed_ds[0][\"image\"].shape[-1],\n",
    "        hidden_dims=32,\n",
    "        num_layers=2,\n",
    "        out_dims=10,\n",
    "    )\n",
    "    optimizer = optim.SGD(learning_rate=0.01)\n",
    "\n",
    "    # Define function to calculate loss and accuracy.\n",
    "    def loss_fn(model, x, y):\n",
    "        output = model(x)\n",
    "        loss = mx.mean(nn.losses.cross_entropy(output, y))\n",
    "        acc = mx.mean(mx.argmax(output, axis=1) == y)\n",
    "        return loss, acc\n",
    "\n",
    "    # Define single training step.\n",
    "    @partial(mx.compile, inputs=model.state, outputs=model.state)\n",
    "    def step(x, y):\n",
    "        loss_and_grad_fn = nn.value_and_grad(model, loss_fn)\n",
    "        (loss, acc), grads = loss_and_grad_fn(model, x, y)\n",
    "        # Average grads to aggregate them across distributed nodes.\n",
    "        grads = nn.utils.average_gradients(grads)\n",
    "        optimizer.update(model, grads)\n",
    "        return loss, acc\n",
    "\n",
    "    # Average statistic across distributed nodes.\n",
    "    def average_stats(stats, count):\n",
    "        with mx.stream(mx.cpu):\n",
    "            stats = mx.distributed.all_sum(mx.array(stats))\n",
    "            count = mx.distributed.all_sum(count)\n",
    "            return (stats / count).tolist()\n",
    "\n",
    "    # Start distributed training.\n",
    "    if rank == 0:\n",
    "        print(\"Start MLX training\")\n",
    "    for epoch in range(15):\n",
    "        epoch_start = time.perf_counter()\n",
    "        losses = accuracies = count = 0\n",
    "\n",
    "        for batch_idx, batch_sample in enumerate(distributed_ds.batch(BATCH_SIZE)):\n",
    "            x = mx.array(batch_sample[\"image\"])\n",
    "            y = mx.array(batch_sample[\"label\"])\n",
    "            loss, acc = step(x, y)\n",
    "            mx.eval(loss, acc, model.state)\n",
    "\n",
    "            losses += loss.item()\n",
    "            accuracies += acc.item()\n",
    "            count += 1\n",
    "\n",
    "            # Print the results.\n",
    "            if batch_idx % 10 == 0:\n",
    "                loss, acc = average_stats([losses, accuracies], count)\n",
    "                if rank == 0:\n",
    "                    print(\n",
    "                        \"Epoch: {} [{}/{} ({:.0f}%)] \\tTrain loss: {:.3f}, acc: {:.3f}\".format(\n",
    "                            epoch,\n",
    "                            batch_idx * len(x),\n",
    "                            len(train_dataset),\n",
    "                            100.0 * batch_idx * len(x) / len(train_dataset),\n",
    "                            loss,\n",
    "                            acc,\n",
    "                        )\n",
    "                    )\n",
    "        if rank == 0:\n",
    "            print(\n",
    "                \"Epoch: {}, time: {:.2f} seconds\\n\\n\".format(\n",
    "                    epoch, time.perf_counter() - epoch_start\n",
    "                )\n",
    "            )\n",
    "\n",
    "    # Finally, export model to S3.\n",
    "    if rank == 0:\n",
    "        print(\"Exporting MNIST model to S3\")\n",
    "        model.save_weights(model_name)\n",
    "        boto3.client(\"s3\").upload_file(model_name, bucket, model_name)"
   ]
  },
  {
   "cell_type": "markdown",
   "id": "875abc44-69dd-41d8-bb2a-436f730a2dd0",
   "metadata": {},
   "source": [
    "## Get the MLX Runtime\n",
    "\n",
    "You can list the available Kubeflow Trainer runtimes with the `list_runtimes()` API.\n",
    "\n",
    "The name of MLX runtime is `mlx-distributed`."
   ]
  },
  {
   "cell_type": "code",
   "execution_count": 2,
   "id": "51d8bc1d-8d9b-48f7-866f-c6ad4ad4241b",
   "metadata": {
    "execution": {
     "iopub.execute_input": "2025-10-18T00:21:02.840985Z",
     "iopub.status.busy": "2025-10-18T00:21:02.840686Z",
     "iopub.status.idle": "2025-10-18T00:21:04.608666Z",
     "shell.execute_reply": "2025-10-18T00:21:04.607847Z",
     "shell.execute_reply.started": "2025-10-18T00:21:02.840963Z"
    }
   },
   "outputs": [
    {
     "name": "stdout",
     "output_type": "stream",
     "text": [
      "Name: mlx-distributed, Framework: mlx, Trainer Type: CustomTrainer\n",
      "\n"
     ]
    }
   ],
   "source": [
    "from kubeflow.trainer import TrainerClient, CustomTrainer\n",
    "\n",
    "for r in TrainerClient().list_runtimes():\n",
    "    if r.name == \"mlx-distributed\":\n",
    "        print(f\"Name: {r.name}, Framework: {r.trainer.framework}, Trainer Type: {r.trainer.trainer_type.value}\\n\")\n",
    "        mlx_runtime = r"
   ]
  },
  {
   "cell_type": "markdown",
   "id": "206c389d-9dcb-474f-b0f5-cc098de2e183",
   "metadata": {},
   "source": [
    "## Create TrainJob for Distributed Training\n",
    "\n",
    "Use the `train()` API to create distributed TrainJob on **3 GPUs**. Every MPI training node uses 1 GPU.\n",
    "\n",
    "**Note:** Update the S3 bucket name."
   ]
  },
  {
   "cell_type": "code",
   "execution_count": 4,
   "id": "cabf303b-bd93-4737-9aef-a1e7f262d915",
   "metadata": {
    "execution": {
     "iopub.execute_input": "2025-10-18T00:21:11.266142Z",
     "iopub.status.busy": "2025-10-18T00:21:11.265842Z",
     "iopub.status.idle": "2025-10-18T00:21:11.269635Z",
     "shell.execute_reply": "2025-10-18T00:21:11.269032Z",
     "shell.execute_reply.started": "2025-10-18T00:21:11.266119Z"
    }
   },
   "outputs": [],
   "source": [
    "# BUCKET = \"Add your S3 bucket\"\n",
    "MODEL = \"mnist.npz\""
   ]
  },
  {
   "cell_type": "code",
   "execution_count": 5,
   "id": "76dab189-f184-4e48-be74-f32c0dea675b",
   "metadata": {
    "execution": {
     "iopub.execute_input": "2025-10-18T00:21:12.239334Z",
     "iopub.status.busy": "2025-10-18T00:21:12.239066Z",
     "iopub.status.idle": "2025-10-18T00:21:13.465106Z",
     "shell.execute_reply": "2025-10-18T00:21:13.463727Z",
     "shell.execute_reply.started": "2025-10-18T00:21:12.239313Z"
    }
   },
   "outputs": [],
   "source": [
    "args = {\"bucket\": BUCKET, \"model_name\": MODEL}\n",
    "\n",
    "job_id = TrainerClient().train(\n",
    "    trainer=CustomTrainer(\n",
    "        func=mlx_train_mnist,\n",
    "        func_args=args,\n",
    "        num_nodes=3,\n",
    "        packages_to_install=[\"boto3\"],\n",
    "        resources_per_node={\n",
    "            \"gpu\": 1\n",
    "        },\n",
    "    ),\n",
    "    runtime=mlx_runtime,\n",
    ")"
   ]
  },
  {
   "cell_type": "code",
   "execution_count": 6,
   "id": "6e1811dd-4bf2-40cf-ad35-35a87271eb21",
   "metadata": {
    "execution": {
     "iopub.execute_input": "2025-10-18T00:21:13.510948Z",
     "iopub.status.busy": "2025-10-18T00:21:13.510535Z",
     "iopub.status.idle": "2025-10-18T00:21:13.517894Z",
     "shell.execute_reply": "2025-10-18T00:21:13.516928Z",
     "shell.execute_reply.started": "2025-10-18T00:21:13.510903Z"
    }
   },
   "outputs": [
    {
     "data": {
      "text/plain": [
       "'vd59b4f8583c'"
      ]
     },
     "execution_count": 6,
     "metadata": {},
     "output_type": "execute_result"
    }
   ],
   "source": [
    "# Train API generates a random TrainJob id.\n",
    "job_id"
   ]
  },
  {
   "cell_type": "markdown",
   "id": "f0864121-895f-4e5a-87b8-7ea2d92e6630",
   "metadata": {},
   "source": [
    "## Check the TrainJob Info\n",
    "\n",
    "Use the `list_jobs()` and `get_job()` APIs to get information about created TrainJob and its steps."
   ]
  },
  {
   "cell_type": "code",
   "execution_count": 7,
   "id": "8a945930-6cfe-4388-8ab8-462474f3f21f",
   "metadata": {
    "execution": {
     "iopub.execute_input": "2025-10-18T00:21:18.959745Z",
     "iopub.status.busy": "2025-10-18T00:21:18.959451Z",
     "iopub.status.idle": "2025-10-18T00:21:20.928561Z",
     "shell.execute_reply": "2025-10-18T00:21:20.927909Z",
     "shell.execute_reply.started": "2025-10-18T00:21:18.959722Z"
    }
   },
   "outputs": [
    {
     "name": "stdout",
     "output_type": "stream",
     "text": [
      "TrainJob: vd59b4f8583c, Status: Created, Created at: 2025-10-18 00:21:13+00:00\n"
     ]
    }
   ],
   "source": [
    "for job in TrainerClient().list_jobs():\n",
    "    print(f\"TrainJob: {job.name}, Status: {job.status}, Created at: {job.creation_timestamp}\")"
   ]
  },
  {
   "cell_type": "code",
   "execution_count": 8,
   "id": "75e8c741-6d31-49a2-8667-d38e40d62430",
   "metadata": {
    "execution": {
     "iopub.execute_input": "2025-10-18T00:21:31.350340Z",
     "iopub.status.busy": "2025-10-18T00:21:31.349959Z",
     "iopub.status.idle": "2025-10-18T00:21:33.102518Z",
     "shell.execute_reply": "2025-10-18T00:21:33.101563Z",
     "shell.execute_reply.started": "2025-10-18T00:21:31.350314Z"
    }
   },
   "outputs": [
    {
     "name": "stdout",
     "output_type": "stream",
     "text": [
      "Step: node-0, Status: Running, Devices: gpu x 1\n",
      "\n",
      "Step: node-1, Status: Running, Devices: gpu x 1\n",
      "\n",
      "Step: node-2, Status: Running, Devices: gpu x 1\n",
      "\n"
     ]
    }
   ],
   "source": [
    "# We execute mpirun command on node-0, which functions as the MPI Launcher node.\n",
    "for c in TrainerClient().get_job(name=job_id).steps:\n",
    "    print(f\"Step: {c.name}, Status: {c.status}, Devices: {c.device} x {c.device_count}\\n\")"
   ]
  },
  {
   "cell_type": "markdown",
   "id": "d4fa3ea2-bdf5-40ca-a9ec-cc948949ea59",
   "metadata": {},
   "source": [
    "## Get the TrainJob Logs\n",
    "\n",
    "Use the `get_job_logs()` API to retrieve the TrainJob logs.\n",
    "\n",
    "Since we distribute the dataset across 3 GPUs, each rank processes `round(60,000 / 3) = 20,000` samples."
   ]
  },
  {
   "cell_type": "code",
   "execution_count": 9,
   "id": "6e630fd3-f061-4fea-8024-7bffcefb257c",
   "metadata": {
    "execution": {
     "iopub.execute_input": "2025-10-18T00:21:41.581757Z",
     "iopub.status.busy": "2025-10-18T00:21:41.581474Z",
     "iopub.status.idle": "2025-10-18T00:23:07.448504Z",
     "shell.execute_reply": "2025-10-18T00:23:07.447479Z",
     "shell.execute_reply.started": "2025-10-18T00:21:41.581731Z"
    }
   },
   "outputs": [
    {
     "name": "stdout",
     "output_type": "stream",
     "text": [
      "Warning: Permanently added '[vd59b4f8583c-node-0-1.vd59b4f8583c]:2222' (ECDSA) to the list of known hosts.\n",
      "Warning: Permanently added '[vd59b4f8583c-node-0-0.vd59b4f8583c]:2222' (ECDSA) to the list of known hosts.\n",
      "Start Distributed Training, WORLD_SIZE: 3, RANK: 0\n",
      "Download MNIST dataset\n",
      "Start Distributed Training, WORLD_SIZE: 3, RANK: 1\n",
      "Start Distributed Training, WORLD_SIZE: 3, RANK: 2\n",
      "Downloading https://raw.githubusercontent.com/fgnt/mnist/master/train-images-idx3-ubyte.gz |███████████████████████████████████     | 8.2MiB / 9.5MiB (134.8MiB/s)  \n",
      "Downloading https://raw.githubusercontent.com/fgnt/mnist/master/train-images-idx3-ubyte.gz 9.5MiB (147.3MiB/s)                                                      \n",
      "Downloading https://raw.githubusercontent.com/fgnt/mnist/master/train-images-idx3-ubyte.gz 9.5MiB (119.3MiB/s)                                                      \n",
      "Downloading https://raw.githubusercontent.com/fgnt/mnist/master/t10k-images-idx3-ubyte.gz |█                                       | 32.0KiB / 1.6MiB (3.9MiB/s)   \n",
      "Downloading https://raw.githubusercontent.com/fgnt/mnist/master/t10k-images-idx3-ubyte.gz 1.6MiB (35.0MiB/s)                                                       \n",
      "Downloading https://raw.githubusercontent.com/fgnt/mnist/master/t10k-images-idx3-ubyte.gz 1.6MiB (35.3MiB/s)                                                       \n",
      "Downloading https://raw.githubusercontent.com/fgnt/mnist/master/train-labels-idx1-ubyte.gz 32.0KiB (17.1MiB/s)                                                     \n",
      "Downloading https://raw.githubusercontent.com/fgnt/mnist/master/train-labels-idx1-ubyte.gz 32.0KiB (18.4MiB/s)                                                     \n",
      "Downloading https://raw.githubusercontent.com/fgnt/mnist/master/t10k-labels-idx1-ubyte.gz 8.0KiB (54.3MiB/s)                                               \n",
      "Downloading https://raw.githubusercontent.com/fgnt/mnist/master/train-labels-idx1-ubyte.gz 32.0KiB (18.5MiB/s)                                                     \n",
      "Downloading https://raw.githubusercontent.com/fgnt/mnist/master/t10k-labels-idx1-ubyte.gz 8.0KiB (53.5MiB/s)                                               \n",
      "Downloading https://raw.githubusercontent.com/fgnt/mnist/master/t10k-labels-idx1-ubyte.gz 8.0KiB (56.3MiB/s)                                               \n",
      "Start MLX training\n",
      "Epoch: 0 [0/60000 (0%)] \tTrain loss: 2.310, acc: 0.086\n",
      "Epoch: 0 [1280/60000 (2%)] \tTrain loss: 2.309, acc: 0.100\n",
      "Epoch: 0 [2560/60000 (4%)] \tTrain loss: 2.308, acc: 0.100\n",
      "Epoch: 0 [3840/60000 (6%)] \tTrain loss: 2.310, acc: 0.097\n",
      "Epoch: 0 [5120/60000 (9%)] \tTrain loss: 2.310, acc: 0.098\n",
      "Epoch: 0 [6400/60000 (11%)] \tTrain loss: 2.309, acc: 0.098\n",
      "Epoch: 0 [7680/60000 (13%)] \tTrain loss: 2.309, acc: 0.100\n",
      "Epoch: 0 [8960/60000 (15%)] \tTrain loss: 2.309, acc: 0.100\n",
      "Epoch: 0 [10240/60000 (17%)] \tTrain loss: 2.308, acc: 0.102\n",
      "Epoch: 0 [11520/60000 (19%)] \tTrain loss: 2.308, acc: 0.103\n",
      "Epoch: 0 [12800/60000 (21%)] \tTrain loss: 2.307, acc: 0.104\n",
      "Epoch: 0 [14080/60000 (23%)] \tTrain loss: 2.307, acc: 0.105\n",
      "Epoch: 0 [15360/60000 (26%)] \tTrain loss: 2.307, acc: 0.105\n",
      "Epoch: 0 [16640/60000 (28%)] \tTrain loss: 2.307, acc: 0.105\n",
      "Epoch: 0 [17920/60000 (30%)] \tTrain loss: 2.306, acc: 0.106\n",
      "Epoch: 0 [19200/60000 (32%)] \tTrain loss: 2.306, acc: 0.106\n",
      "Epoch: 0, time: 29.13 seconds\n",
      "\n",
      "\n",
      "Epoch: 1 [0/60000 (0%)] \tTrain loss: 2.299, acc: 0.115\n",
      "Epoch: 1 [1280/60000 (2%)] \tTrain loss: 2.298, acc: 0.126\n",
      "Epoch: 1 [2560/60000 (4%)] \tTrain loss: 2.297, acc: 0.126\n",
      "Epoch: 1 [3840/60000 (6%)] \tTrain loss: 2.299, acc: 0.122\n",
      "Epoch: 1 [5120/60000 (9%)] \tTrain loss: 2.299, acc: 0.123\n",
      "Epoch: 1 [6400/60000 (11%)] \tTrain loss: 2.298, acc: 0.122\n",
      "Epoch: 1 [7680/60000 (13%)] \tTrain loss: 2.298, acc: 0.124\n",
      "Epoch: 1 [8960/60000 (15%)] \tTrain loss: 2.298, acc: 0.124\n",
      "Epoch: 1 [10240/60000 (17%)] \tTrain loss: 2.297, acc: 0.126\n",
      "Epoch: 1 [11520/60000 (19%)] \tTrain loss: 2.296, acc: 0.127\n",
      "Epoch: 1 [12800/60000 (21%)] \tTrain loss: 2.296, acc: 0.128\n",
      "Epoch: 1 [14080/60000 (23%)] \tTrain loss: 2.296, acc: 0.129\n",
      "Epoch: 1 [15360/60000 (26%)] \tTrain loss: 2.296, acc: 0.128\n",
      "Epoch: 1 [16640/60000 (28%)] \tTrain loss: 2.295, acc: 0.128\n",
      "Epoch: 1 [17920/60000 (30%)] \tTrain loss: 2.295, acc: 0.129\n",
      "Epoch: 1 [19200/60000 (32%)] \tTrain loss: 2.295, acc: 0.130\n",
      "Epoch: 1, time: 0.48 seconds\n",
      "\n",
      "\n",
      "Epoch: 2 [0/60000 (0%)] \tTrain loss: 2.288, acc: 0.133\n",
      "Epoch: 2 [1280/60000 (2%)] \tTrain loss: 2.286, acc: 0.144\n",
      "Epoch: 2 [2560/60000 (4%)] \tTrain loss: 2.286, acc: 0.147\n",
      "Epoch: 2 [3840/60000 (6%)] \tTrain loss: 2.287, acc: 0.146\n",
      "Epoch: 2 [5120/60000 (9%)] \tTrain loss: 2.287, acc: 0.148\n",
      "Epoch: 2 [6400/60000 (11%)] \tTrain loss: 2.286, acc: 0.149\n",
      "Epoch: 2 [7680/60000 (13%)] \tTrain loss: 2.286, acc: 0.151\n",
      "Epoch: 2 [8960/60000 (15%)] \tTrain loss: 2.286, acc: 0.153\n",
      "Epoch: 2 [10240/60000 (17%)] \tTrain loss: 2.285, acc: 0.156\n",
      "Epoch: 2 [11520/60000 (19%)] \tTrain loss: 2.284, acc: 0.159\n",
      "Epoch: 2 [12800/60000 (21%)] \tTrain loss: 2.284, acc: 0.161\n",
      "Epoch: 2 [14080/60000 (23%)] \tTrain loss: 2.284, acc: 0.163\n",
      "Epoch: 2 [15360/60000 (26%)] \tTrain loss: 2.283, acc: 0.164\n",
      "Epoch: 2 [16640/60000 (28%)] \tTrain loss: 2.283, acc: 0.165\n",
      "Epoch: 2 [17920/60000 (30%)] \tTrain loss: 2.282, acc: 0.167\n",
      "Epoch: 2 [19200/60000 (32%)] \tTrain loss: 2.282, acc: 0.169\n",
      "Epoch: 2, time: 0.50 seconds\n",
      "\n",
      "\n",
      "Epoch: 3 [0/60000 (0%)] \tTrain loss: 2.274, acc: 0.172\n",
      "Epoch: 3 [1280/60000 (2%)] \tTrain loss: 2.272, acc: 0.197\n",
      "Epoch: 3 [2560/60000 (4%)] \tTrain loss: 2.271, acc: 0.199\n",
      "Epoch: 3 [3840/60000 (6%)] \tTrain loss: 2.272, acc: 0.197\n",
      "Epoch: 3 [5120/60000 (9%)] \tTrain loss: 2.272, acc: 0.197\n",
      "Epoch: 3 [6400/60000 (11%)] \tTrain loss: 2.271, acc: 0.197\n",
      "Epoch: 3 [7680/60000 (13%)] \tTrain loss: 2.270, acc: 0.199\n",
      "Epoch: 3 [8960/60000 (15%)] \tTrain loss: 2.270, acc: 0.201\n",
      "Epoch: 3 [10240/60000 (17%)] \tTrain loss: 2.269, acc: 0.204\n",
      "Epoch: 3 [11520/60000 (19%)] \tTrain loss: 2.268, acc: 0.206\n",
      "Epoch: 3 [12800/60000 (21%)] \tTrain loss: 2.267, acc: 0.208\n",
      "Epoch: 3 [14080/60000 (23%)] \tTrain loss: 2.266, acc: 0.210\n",
      "Epoch: 3 [15360/60000 (26%)] \tTrain loss: 2.266, acc: 0.211\n",
      "Epoch: 3 [16640/60000 (28%)] \tTrain loss: 2.265, acc: 0.211\n",
      "Epoch: 3 [17920/60000 (30%)] \tTrain loss: 2.264, acc: 0.214\n",
      "Epoch: 3 [19200/60000 (32%)] \tTrain loss: 2.264, acc: 0.216\n",
      "Epoch: 3, time: 0.49 seconds\n",
      "\n",
      "\n",
      "Epoch: 4 [0/60000 (0%)] \tTrain loss: 2.250, acc: 0.219\n",
      "Epoch: 4 [1280/60000 (2%)] \tTrain loss: 2.247, acc: 0.236\n",
      "Epoch: 4 [2560/60000 (4%)] \tTrain loss: 2.247, acc: 0.236\n",
      "Epoch: 4 [3840/60000 (6%)] \tTrain loss: 2.247, acc: 0.238\n",
      "Epoch: 4 [5120/60000 (9%)] \tTrain loss: 2.247, acc: 0.236\n",
      "Epoch: 4 [6400/60000 (11%)] \tTrain loss: 2.245, acc: 0.237\n",
      "Epoch: 4 [7680/60000 (13%)] \tTrain loss: 2.244, acc: 0.238\n",
      "Epoch: 4 [8960/60000 (15%)] \tTrain loss: 2.244, acc: 0.239\n",
      "Epoch: 4 [10240/60000 (17%)] \tTrain loss: 2.242, acc: 0.242\n",
      "Epoch: 4 [11520/60000 (19%)] \tTrain loss: 2.240, acc: 0.244\n",
      "Epoch: 4 [12800/60000 (21%)] \tTrain loss: 2.239, acc: 0.245\n",
      "Epoch: 4 [14080/60000 (23%)] \tTrain loss: 2.238, acc: 0.247\n",
      "Epoch: 4 [15360/60000 (26%)] \tTrain loss: 2.237, acc: 0.246\n",
      "Epoch: 4 [16640/60000 (28%)] \tTrain loss: 2.236, acc: 0.247\n",
      "Epoch: 4 [17920/60000 (30%)] \tTrain loss: 2.234, acc: 0.248\n",
      "Epoch: 4 [19200/60000 (32%)] \tTrain loss: 2.233, acc: 0.249\n",
      "Epoch: 4, time: 0.49 seconds\n",
      "\n",
      "\n",
      "Epoch: 5 [0/60000 (0%)] \tTrain loss: 2.209, acc: 0.279\n",
      "Epoch: 5 [1280/60000 (2%)] \tTrain loss: 2.207, acc: 0.270\n",
      "Epoch: 5 [2560/60000 (4%)] \tTrain loss: 2.206, acc: 0.267\n",
      "Epoch: 5 [3840/60000 (6%)] \tTrain loss: 2.205, acc: 0.269\n",
      "Epoch: 5 [5120/60000 (9%)] \tTrain loss: 2.204, acc: 0.268\n",
      "Epoch: 5 [6400/60000 (11%)] \tTrain loss: 2.202, acc: 0.271\n",
      "Epoch: 5 [7680/60000 (13%)] \tTrain loss: 2.200, acc: 0.272\n",
      "Epoch: 5 [8960/60000 (15%)] \tTrain loss: 2.199, acc: 0.275\n",
      "Epoch: 5 [10240/60000 (17%)] \tTrain loss: 2.196, acc: 0.279\n",
      "Epoch: 5 [11520/60000 (19%)] \tTrain loss: 2.194, acc: 0.282\n",
      "Epoch: 5 [12800/60000 (21%)] \tTrain loss: 2.192, acc: 0.284\n",
      "Epoch: 5 [14080/60000 (23%)] \tTrain loss: 2.189, acc: 0.286\n",
      "Epoch: 5 [15360/60000 (26%)] \tTrain loss: 2.188, acc: 0.287\n",
      "Epoch: 5 [16640/60000 (28%)] \tTrain loss: 2.186, acc: 0.288\n",
      "Epoch: 5 [17920/60000 (30%)] \tTrain loss: 2.183, acc: 0.290\n",
      "Epoch: 5 [19200/60000 (32%)] \tTrain loss: 2.181, acc: 0.292\n",
      "Epoch: 5, time: 0.49 seconds\n",
      "\n",
      "\n",
      "Epoch: 6 [0/60000 (0%)] \tTrain loss: 2.138, acc: 0.341\n",
      "Epoch: 6 [1280/60000 (2%)] \tTrain loss: 2.136, acc: 0.326\n",
      "Epoch: 6 [2560/60000 (4%)] \tTrain loss: 2.135, acc: 0.323\n",
      "Epoch: 6 [3840/60000 (6%)] \tTrain loss: 2.131, acc: 0.325\n",
      "Epoch: 6 [5120/60000 (9%)] \tTrain loss: 2.130, acc: 0.324\n",
      "Epoch: 6 [6400/60000 (11%)] \tTrain loss: 2.125, acc: 0.327\n",
      "Epoch: 6 [7680/60000 (13%)] \tTrain loss: 2.123, acc: 0.327\n",
      "Epoch: 6 [8960/60000 (15%)] \tTrain loss: 2.119, acc: 0.329\n",
      "Epoch: 6 [10240/60000 (17%)] \tTrain loss: 2.114, acc: 0.332\n",
      "Epoch: 6 [11520/60000 (19%)] \tTrain loss: 2.111, acc: 0.334\n",
      "Epoch: 6 [12800/60000 (21%)] \tTrain loss: 2.107, acc: 0.334\n",
      "Epoch: 6 [14080/60000 (23%)] \tTrain loss: 2.102, acc: 0.334\n",
      "Epoch: 6 [15360/60000 (26%)] \tTrain loss: 2.099, acc: 0.334\n",
      "Epoch: 6 [16640/60000 (28%)] \tTrain loss: 2.095, acc: 0.335\n",
      "Epoch: 6 [17920/60000 (30%)] \tTrain loss: 2.091, acc: 0.336\n",
      "Epoch: 6 [19200/60000 (32%)] \tTrain loss: 2.086, acc: 0.337\n",
      "Epoch: 6, time: 0.49 seconds\n",
      "\n",
      "\n",
      "Epoch: 7 [0/60000 (0%)] \tTrain loss: 2.008, acc: 0.372\n",
      "Epoch: 7 [1280/60000 (2%)] \tTrain loss: 2.004, acc: 0.359\n",
      "Epoch: 7 [2560/60000 (4%)] \tTrain loss: 2.000, acc: 0.357\n",
      "Epoch: 7 [3840/60000 (6%)] \tTrain loss: 1.993, acc: 0.362\n",
      "Epoch: 7 [5120/60000 (9%)] \tTrain loss: 1.989, acc: 0.362\n",
      "Epoch: 7 [6400/60000 (11%)] \tTrain loss: 1.981, acc: 0.368\n",
      "Epoch: 7 [7680/60000 (13%)] \tTrain loss: 1.976, acc: 0.368\n",
      "Epoch: 7 [8960/60000 (15%)] \tTrain loss: 1.970, acc: 0.372\n",
      "Epoch: 7 [10240/60000 (17%)] \tTrain loss: 1.961, acc: 0.376\n",
      "Epoch: 7 [11520/60000 (19%)] \tTrain loss: 1.955, acc: 0.380\n",
      "Epoch: 7 [12800/60000 (21%)] \tTrain loss: 1.948, acc: 0.383\n",
      "Epoch: 7 [14080/60000 (23%)] \tTrain loss: 1.940, acc: 0.387\n",
      "Epoch: 7 [15360/60000 (26%)] \tTrain loss: 1.933, acc: 0.390\n",
      "Epoch: 7 [16640/60000 (28%)] \tTrain loss: 1.927, acc: 0.394\n",
      "Epoch: 7 [17920/60000 (30%)] \tTrain loss: 1.919, acc: 0.398\n",
      "Epoch: 7 [19200/60000 (32%)] \tTrain loss: 1.912, acc: 0.402\n",
      "Epoch: 7, time: 0.49 seconds\n",
      "\n",
      "\n",
      "Epoch: 8 [0/60000 (0%)] \tTrain loss: 1.782, acc: 0.510\n",
      "Epoch: 8 [1280/60000 (2%)] \tTrain loss: 1.775, acc: 0.464\n",
      "Epoch: 8 [2560/60000 (4%)] \tTrain loss: 1.768, acc: 0.469\n",
      "Epoch: 8 [3840/60000 (6%)] \tTrain loss: 1.757, acc: 0.477\n",
      "Epoch: 8 [5120/60000 (9%)] \tTrain loss: 1.751, acc: 0.479\n",
      "Epoch: 8 [6400/60000 (11%)] \tTrain loss: 1.739, acc: 0.486\n",
      "Epoch: 8 [7680/60000 (13%)] \tTrain loss: 1.732, acc: 0.489\n",
      "Epoch: 8 [8960/60000 (15%)] \tTrain loss: 1.723, acc: 0.494\n",
      "Epoch: 8 [10240/60000 (17%)] \tTrain loss: 1.712, acc: 0.499\n",
      "Epoch: 8 [11520/60000 (19%)] \tTrain loss: 1.703, acc: 0.503\n",
      "Epoch: 8 [12800/60000 (21%)] \tTrain loss: 1.693, acc: 0.508\n",
      "Epoch: 8 [14080/60000 (23%)] \tTrain loss: 1.682, acc: 0.512\n",
      "Epoch: 8 [15360/60000 (26%)] \tTrain loss: 1.674, acc: 0.516\n",
      "Epoch: 8 [16640/60000 (28%)] \tTrain loss: 1.665, acc: 0.520\n",
      "Epoch: 8 [17920/60000 (30%)] \tTrain loss: 1.655, acc: 0.524\n",
      "Epoch: 8 [19200/60000 (32%)] \tTrain loss: 1.646, acc: 0.528\n",
      "Epoch: 8, time: 0.49 seconds\n",
      "\n",
      "\n",
      "Epoch: 9 [0/60000 (0%)] \tTrain loss: 1.483, acc: 0.604\n",
      "Epoch: 9 [1280/60000 (2%)] \tTrain loss: 1.478, acc: 0.576\n",
      "Epoch: 9 [2560/60000 (4%)] \tTrain loss: 1.471, acc: 0.584\n",
      "Epoch: 9 [3840/60000 (6%)] \tTrain loss: 1.458, acc: 0.595\n",
      "Epoch: 9 [5120/60000 (9%)] \tTrain loss: 1.452, acc: 0.598\n",
      "Epoch: 9 [6400/60000 (11%)] \tTrain loss: 1.438, acc: 0.605\n",
      "Epoch: 9 [7680/60000 (13%)] \tTrain loss: 1.431, acc: 0.608\n",
      "Epoch: 9 [8960/60000 (15%)] \tTrain loss: 1.422, acc: 0.610\n",
      "Epoch: 9 [10240/60000 (17%)] \tTrain loss: 1.411, acc: 0.614\n",
      "Epoch: 9 [11520/60000 (19%)] \tTrain loss: 1.402, acc: 0.618\n",
      "Epoch: 9 [12800/60000 (21%)] \tTrain loss: 1.392, acc: 0.621\n",
      "Epoch: 9 [14080/60000 (23%)] \tTrain loss: 1.381, acc: 0.624\n",
      "Epoch: 9 [15360/60000 (26%)] \tTrain loss: 1.373, acc: 0.626\n",
      "Epoch: 9 [16640/60000 (28%)] \tTrain loss: 1.364, acc: 0.628\n",
      "Epoch: 9 [17920/60000 (30%)] \tTrain loss: 1.355, acc: 0.631\n",
      "Epoch: 9 [19200/60000 (32%)] \tTrain loss: 1.347, acc: 0.634\n",
      "Epoch: 9, time: 0.49 seconds\n",
      "\n",
      "\n",
      "Epoch: 10 [0/60000 (0%)] \tTrain loss: 1.200, acc: 0.677\n",
      "Epoch: 10 [1280/60000 (2%)] \tTrain loss: 1.196, acc: 0.661\n",
      "Epoch: 10 [2560/60000 (4%)] \tTrain loss: 1.191, acc: 0.668\n",
      "Epoch: 10 [3840/60000 (6%)] \tTrain loss: 1.177, acc: 0.679\n",
      "Epoch: 10 [5120/60000 (9%)] \tTrain loss: 1.173, acc: 0.679\n",
      "Epoch: 10 [6400/60000 (11%)] \tTrain loss: 1.160, acc: 0.685\n",
      "Epoch: 10 [7680/60000 (13%)] \tTrain loss: 1.155, acc: 0.686\n",
      "Epoch: 10 [8960/60000 (15%)] \tTrain loss: 1.148, acc: 0.688\n",
      "Epoch: 10 [10240/60000 (17%)] \tTrain loss: 1.140, acc: 0.690\n",
      "Epoch: 10 [11520/60000 (19%)] \tTrain loss: 1.132, acc: 0.693\n",
      "Epoch: 10 [12800/60000 (21%)] \tTrain loss: 1.125, acc: 0.696\n",
      "Epoch: 10 [14080/60000 (23%)] \tTrain loss: 1.115, acc: 0.698\n",
      "Epoch: 10 [15360/60000 (26%)] \tTrain loss: 1.109, acc: 0.699\n",
      "Epoch: 10 [16640/60000 (28%)] \tTrain loss: 1.103, acc: 0.701\n",
      "Epoch: 10 [17920/60000 (30%)] \tTrain loss: 1.096, acc: 0.703\n",
      "Epoch: 10 [19200/60000 (32%)] \tTrain loss: 1.090, acc: 0.704\n",
      "Epoch: 10, time: 0.49 seconds\n",
      "\n",
      "\n",
      "Epoch: 11 [0/60000 (0%)] \tTrain loss: 0.986, acc: 0.745\n",
      "Epoch: 11 [1280/60000 (2%)] \tTrain loss: 0.980, acc: 0.727\n",
      "Epoch: 11 [2560/60000 (4%)] \tTrain loss: 0.980, acc: 0.728\n",
      "Epoch: 11 [3840/60000 (6%)] \tTrain loss: 0.966, acc: 0.736\n",
      "Epoch: 11 [5120/60000 (9%)] \tTrain loss: 0.966, acc: 0.734\n",
      "Epoch: 11 [6400/60000 (11%)] \tTrain loss: 0.955, acc: 0.739\n",
      "Epoch: 11 [7680/60000 (13%)] \tTrain loss: 0.952, acc: 0.739\n",
      "Epoch: 11 [8960/60000 (15%)] \tTrain loss: 0.948, acc: 0.739\n",
      "Epoch: 11 [10240/60000 (17%)] \tTrain loss: 0.943, acc: 0.739\n",
      "Epoch: 11 [11520/60000 (19%)] \tTrain loss: 0.937, acc: 0.740\n",
      "Epoch: 11 [12800/60000 (21%)] \tTrain loss: 0.933, acc: 0.742\n",
      "Epoch: 11 [14080/60000 (23%)] \tTrain loss: 0.925, acc: 0.744\n",
      "Epoch: 11 [15360/60000 (26%)] \tTrain loss: 0.922, acc: 0.744\n",
      "Epoch: 11 [16640/60000 (28%)] \tTrain loss: 0.917, acc: 0.745\n",
      "Epoch: 11 [17920/60000 (30%)] \tTrain loss: 0.913, acc: 0.746\n",
      "Epoch: 11 [19200/60000 (32%)] \tTrain loss: 0.909, acc: 0.746\n",
      "Epoch: 11, time: 0.49 seconds\n",
      "\n",
      "\n",
      "Epoch: 12 [0/60000 (0%)] \tTrain loss: 0.847, acc: 0.760\n",
      "Epoch: 12 [1280/60000 (2%)] \tTrain loss: 0.839, acc: 0.764\n",
      "Epoch: 12 [2560/60000 (4%)] \tTrain loss: 0.842, acc: 0.763\n",
      "Epoch: 12 [3840/60000 (6%)] \tTrain loss: 0.830, acc: 0.769\n",
      "Epoch: 12 [5120/60000 (9%)] \tTrain loss: 0.832, acc: 0.766\n",
      "Epoch: 12 [6400/60000 (11%)] \tTrain loss: 0.823, acc: 0.769\n",
      "Epoch: 12 [7680/60000 (13%)] \tTrain loss: 0.821, acc: 0.769\n",
      "Epoch: 12 [8960/60000 (15%)] \tTrain loss: 0.820, acc: 0.769\n",
      "Epoch: 12 [10240/60000 (17%)] \tTrain loss: 0.816, acc: 0.769\n",
      "Epoch: 12 [11520/60000 (19%)] \tTrain loss: 0.812, acc: 0.770\n",
      "Epoch: 12 [12800/60000 (21%)] \tTrain loss: 0.809, acc: 0.771\n",
      "Epoch: 12 [14080/60000 (23%)] \tTrain loss: 0.803, acc: 0.772\n",
      "Epoch: 12 [15360/60000 (26%)] \tTrain loss: 0.801, acc: 0.772\n",
      "Epoch: 12 [16640/60000 (28%)] \tTrain loss: 0.798, acc: 0.772\n",
      "Epoch: 12 [17920/60000 (30%)] \tTrain loss: 0.795, acc: 0.773\n",
      "Epoch: 12 [19200/60000 (32%)] \tTrain loss: 0.793, acc: 0.774\n",
      "Epoch: 12, time: 0.49 seconds\n",
      "\n",
      "\n",
      "Epoch: 13 [0/60000 (0%)] \tTrain loss: 0.757, acc: 0.786\n",
      "Epoch: 13 [1280/60000 (2%)] \tTrain loss: 0.746, acc: 0.791\n",
      "Epoch: 13 [2560/60000 (4%)] \tTrain loss: 0.751, acc: 0.788\n",
      "Epoch: 13 [3840/60000 (6%)] \tTrain loss: 0.740, acc: 0.793\n",
      "Epoch: 13 [5120/60000 (9%)] \tTrain loss: 0.743, acc: 0.789\n",
      "Epoch: 13 [6400/60000 (11%)] \tTrain loss: 0.735, acc: 0.791\n",
      "Epoch: 13 [7680/60000 (13%)] \tTrain loss: 0.735, acc: 0.791\n",
      "Epoch: 13 [8960/60000 (15%)] \tTrain loss: 0.734, acc: 0.790\n",
      "Epoch: 13 [10240/60000 (17%)] \tTrain loss: 0.732, acc: 0.789\n",
      "Epoch: 13 [11520/60000 (19%)] \tTrain loss: 0.728, acc: 0.790\n",
      "Epoch: 13 [12800/60000 (21%)] \tTrain loss: 0.726, acc: 0.791\n",
      "Epoch: 13 [14080/60000 (23%)] \tTrain loss: 0.721, acc: 0.792\n",
      "Epoch: 13 [15360/60000 (26%)] \tTrain loss: 0.720, acc: 0.792\n",
      "Epoch: 13 [16640/60000 (28%)] \tTrain loss: 0.718, acc: 0.792\n",
      "Epoch: 13 [17920/60000 (30%)] \tTrain loss: 0.715, acc: 0.793\n",
      "Epoch: 13 [19200/60000 (32%)] \tTrain loss: 0.714, acc: 0.793\n",
      "Epoch: 13, time: 0.49 seconds\n",
      "\n",
      "\n",
      "Epoch: 14 [0/60000 (0%)] \tTrain loss: 0.695, acc: 0.797\n",
      "Epoch: 14 [1280/60000 (2%)] \tTrain loss: 0.680, acc: 0.808\n",
      "Epoch: 14 [2560/60000 (4%)] \tTrain loss: 0.685, acc: 0.803\n",
      "Epoch: 14 [3840/60000 (6%)] \tTrain loss: 0.675, acc: 0.808\n",
      "Epoch: 14 [5120/60000 (9%)] \tTrain loss: 0.679, acc: 0.805\n",
      "Epoch: 14 [6400/60000 (11%)] \tTrain loss: 0.671, acc: 0.807\n",
      "Epoch: 14 [7680/60000 (13%)] \tTrain loss: 0.672, acc: 0.807\n",
      "Epoch: 14 [8960/60000 (15%)] \tTrain loss: 0.672, acc: 0.806\n",
      "Epoch: 14 [10240/60000 (17%)] \tTrain loss: 0.670, acc: 0.806\n",
      "Epoch: 14 [11520/60000 (19%)] \tTrain loss: 0.667, acc: 0.808\n",
      "Epoch: 14 [12800/60000 (21%)] \tTrain loss: 0.666, acc: 0.808\n",
      "Epoch: 14 [14080/60000 (23%)] \tTrain loss: 0.661, acc: 0.809\n",
      "Epoch: 14 [15360/60000 (26%)] \tTrain loss: 0.660, acc: 0.809\n",
      "Epoch: 14 [16640/60000 (28%)] \tTrain loss: 0.658, acc: 0.809\n",
      "Epoch: 14 [17920/60000 (30%)] \tTrain loss: 0.657, acc: 0.809\n",
      "Epoch: 14 [19200/60000 (32%)] \tTrain loss: 0.656, acc: 0.809\n",
      "Epoch: 14, time: 0.49 seconds\n",
      "\n",
      "\n",
      "Exporting MNIST model to S3\n"
     ]
    }
   ],
   "source": [
    "for logline in TrainerClient().get_job_logs(job_id, follow=True):\n",
    "    print(logline)"
   ]
  },
  {
   "cell_type": "markdown",
   "id": "c0695485-1590-49f2-a97a-e003891fc550",
   "metadata": {},
   "source": [
    "## Evaluate the Trained Model\n",
    "\n",
    "Download the trained model from S3 to evaluate it.\n",
    "\n",
    "We will use test images from the MNIST dataset for prediction.\n",
    "\n",
    "- <span style=\"color:green\">Green label</span> indicate correct predictions.\n",
    "- <span style=\"color:red\">Red label</span> indicate incorrect predictions, with the correct value shown in parentheses."
   ]
  },
  {
   "cell_type": "code",
   "execution_count": 10,
   "id": "fd83db0a-d2ca-4a93-b03f-2ac1cfe03c19",
   "metadata": {
    "execution": {
     "iopub.execute_input": "2025-10-18T00:23:24.217640Z",
     "iopub.status.busy": "2025-10-18T00:23:24.217176Z",
     "iopub.status.idle": "2025-10-18T00:23:26.912502Z",
     "shell.execute_reply": "2025-10-18T00:23:26.911145Z",
     "shell.execute_reply.started": "2025-10-18T00:23:24.217595Z"
    }
   },
   "outputs": [],
   "source": [
    "import boto3\n",
    "\n",
    "boto3.client(\"s3\").download_file(BUCKET, MODEL, MODEL)"
   ]
  },
  {
   "cell_type": "code",
   "execution_count": 12,
   "id": "cda451fb-b96a-42da-aebf-59a1d6c3ec35",
   "metadata": {
    "execution": {
     "iopub.execute_input": "2025-10-18T00:23:35.067374Z",
     "iopub.status.busy": "2025-10-18T00:23:35.066044Z",
     "iopub.status.idle": "2025-10-18T00:23:35.427791Z",
     "shell.execute_reply": "2025-10-18T00:23:35.427555Z",
     "shell.execute_reply.started": "2025-10-18T00:23:35.067319Z"
    }
   },
   "outputs": [
    {
     "data": {
      "image/png": "[encoded data removed]",
      "text/plain": [
       "<Figure size 1500x500 with 20 Axes>"
      ]
     },
     "metadata": {},
     "output_type": "display_data"
    }
   ],
   "source": [
    "import mlx.core as mx\n",
    "import mlx.nn as nn\n",
    "import matplotlib.pyplot as plt\n",
    "from mlx.data.datasets import load_mnist\n",
    "\n",
    "\n",
    "# Load test dataset and take the random batch from it.\n",
    "test_batch = (\n",
    "    load_mnist(train=False)\n",
    "    .key_transform(\"image\", lambda x: (x.astype(\"float32\") / 255.0).ravel())\n",
    "    .batch(20)[mx.random.randint(10, 500)]\n",
    ")\n",
    "\n",
    "class MLP(nn.Module):\n",
    "    def __init__(self, in_dims: int, hidden_dims: int, num_layers: int, out_dims: int):\n",
    "        super().__init__()\n",
    "        layer_sizes = [in_dims] + [hidden_dims] * num_layers + [out_dims]\n",
    "        self.layers = [\n",
    "            nn.Linear(idim, odim)\n",
    "            for idim, odim in zip(layer_sizes[:-1], layer_sizes[1:])\n",
    "        ]\n",
    "\n",
    "    def __call__(self, x):\n",
    "        for layer in self.layers[:-1]:\n",
    "            x = nn.relu(layer(x))\n",
    "        return self.layers[-1](x)\n",
    "\n",
    "# Load weights from the trained model.\n",
    "model = MLP(\n",
    "    in_dims=test_batch[\"image\"][0].shape[-1],\n",
    "    hidden_dims=32,\n",
    "    num_layers=2,\n",
    "    out_dims=10,\n",
    ").load_weights(MODEL)\n",
    "\n",
    "# Send test batch to the pre-trained MLP model.\n",
    "x = mx.array(test_batch[\"image\"])\n",
    "output = model(x)\n",
    "fig = plt.figure(figsize=(15, 5))\n",
    "for i in range(20):\n",
    "    # Format the input image and the model output.\n",
    "    image = test_batch[\"image\"][i].reshape((28, 28))\n",
    "    pred_label = mx.argmax(output[i])\n",
    "\n",
    "    # Add data to the plot.\n",
    "    ax = fig.add_subplot(4, 5, i + 1, xticks=[], yticks=[])\n",
    "    ax.imshow(image, cmap=\"gray\")\n",
    "    if test_batch[\"label\"][i] == pred_label:\n",
    "        ax.set_title(test_batch[\"label\"][i], color=\"green\")\n",
    "    else:\n",
    "        ax.set_title(\"{} ({})\".format(pred_label, test_batch[\"label\"][i]), color=\"red\")\n",
    "\n",
    "    ax.title.set_fontsize(20)\n",
    "    fig.tight_layout()"
   ]
  },
  {
   "cell_type": "markdown",
   "id": "2a132965-9252-466f-af96-34dcafb84d76",
   "metadata": {},
   "source": [
    "## Delete the TrainJob\n",
    "\n",
    "When TrainJob is finished, you can delete the resource."
   ]
  },
  {
   "cell_type": "code",
   "execution_count": null,
   "id": "c8270e6a-80f9-49e8-81be-8ea2de9d204c",
   "metadata": {},
   "outputs": [],
   "source": [
    "TrainerClient().delete_job(job_id)"
   ]
  }
 ],
 "metadata": {
  "kernelspec": {
   "display_name": "Python 3 (ipykernel)",
   "language": "python",
   "name": "python3"
  },
  "language_info": {
   "codemirror_mode": {
    "name": "ipython",
    "version": 3
   },
   "file_extension": ".py",
   "mimetype": "text/x-python",
   "name": "python",
   "nbconvert_exporter": "python",
   "pygments_lexer": "ipython3",
   "version": "3.11.13"
  }
 },
 "nbformat": 4,
 "nbformat_minor": 5
}
