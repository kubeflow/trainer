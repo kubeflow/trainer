{
 "cells": [
  {
   "cell_type": "markdown",
   "id": "629c902e-6cd0-4475-b6ce-5d6e37d7e2f3",
   "metadata": {},
   "source": [
    "# Distributed MNIST with MLX and Kubeflow Trainer\n",
    "\n",
    "This Notebook will show how to run distributed MLX on Kubernetes with Kubeflow Trainer.\n",
    "\n",
    "The MLX runtime uses `mlx[cuda]` package to run distributed training on GPUs.\n",
    "\n",
    "MLX Distributed: https://ml-explore.github.io/mlx/build/html/usage/distributed.html"
   ]
  },
  {
   "cell_type": "markdown",
   "id": "3cb9ab4c8e12221a",
   "metadata": {},
   "source": [
    "## Install the Kubeflow SDK\n",
    "\n",
    "You need to install the Kubeflow SDK to interact with Kubeflow Trainer APIs:"
   ]
  },
  {
   "cell_type": "code",
   "execution_count": null,
   "id": "bd62189280760f42",
   "metadata": {},
   "outputs": [],
   "source": "# !pip install -U kubeflow"
  },
  {
   "cell_type": "markdown",
   "id": "143ab709-ba3c-41b2-8afa-983b1b6b6d06",
   "metadata": {},
   "source": [
    "## Install the MLX Dependencies\n",
    "\n",
    "You also need to install MLX packages to evaluate the trained model."
   ]
  },
  {
   "cell_type": "code",
   "execution_count": null,
   "id": "f8719fe2-a033-486b-80d6-13d5e4e4d752",
   "metadata": {},
   "outputs": [],
   "source": [
    "!pip install \"mlx>=0.28.0\"\n",
    "!pip install \"mlx-data>=0.1.0\"\n",
    "!pip install \"matplotlib>=3.10.5\""
   ]
  },
  {
   "cell_type": "markdown",
   "id": "a5e8ec90-3b9f-40fd-86d9-1596d7e837ee",
   "metadata": {},
   "source": [
    "## Update the GPU Resources\n",
    "\n",
    "Currently, Kubeflow Trainer does not support configuring MLX resources directly through a\n",
    "TrainJob specification.\n",
    "\n",
    "To adjust GPU allocations (and other container resource settings), you must manually patch the ClusterTrainingRuntime.\n",
    "\n",
    "Progress for native resource configuration in TrainJob is being tracked here: [kubeflow/trainer#2650](https://github.com/kubeflow/trainer/issues/2650)\n"
   ]
  },
  {
   "cell_type": "code",
   "execution_count": 1,
   "id": "ac74c8ac-7418-4d49-8662-03034bbe0b7a",
   "metadata": {
    "execution": {
     "iopub.execute_input": "2025-09-03T13:53:33.250340Z",
     "iopub.status.busy": "2025-09-03T13:53:33.249683Z",
     "iopub.status.idle": "2025-09-03T13:53:34.736513Z",
     "shell.execute_reply": "2025-09-03T13:53:34.735076Z",
     "shell.execute_reply.started": "2025-09-03T13:53:33.250300Z"
    }
   },
   "outputs": [
    {
     "name": "stdout",
     "output_type": "stream",
     "text": [
      "clustertrainingruntime.trainer.kubeflow.org/mlx-distributed patched\n"
     ]
    }
   ],
   "source": [
    "patch = \"\"\"\n",
    "[\n",
    "  {\n",
    "    \"op\": \"add\",\n",
    "    \"path\": \"/spec/template/spec/replicatedJobs/0/template/spec/template/spec/containers/0/resources\",\n",
    "    \"value\": { \"limits\": { \"nvidia.com/gpu\": \"1\" } }\n",
    "  },\n",
    "  {\n",
    "    \"op\": \"add\",\n",
    "    \"path\": \"/spec/template/spec/replicatedJobs/1/template/spec/template/spec/containers/0/resources\",\n",
    "    \"value\": { \"limits\": { \"nvidia.com/gpu\": \"1\" } }\n",
    "  }\n",
    "]\n",
    "\"\"\"\n",
    "!kubectl patch clustertrainingruntime mlx-distributed --type='json' -p \"$patch\""
   ]
  },
  {
   "cell_type": "markdown",
   "id": "b5ad0e01-d893-484c-8988-d25c2f322b80",
   "metadata": {},
   "source": [
    "## Create MLX training script\n",
    "\n",
    "We need to wrap our training script into a function to create Kubeflow TrainJob.\n",
    "\n",
    "This is the simple MLP model to recognize digits from the MNIST dataset."
   ]
  },
  {
   "cell_type": "code",
   "execution_count": null,
   "id": "57952ce1-5752-4976-8a35-c71d25935b74",
   "metadata": {
    "execution": {
     "iopub.execute_input": "2025-09-03T13:55:13.574359Z",
     "iopub.status.busy": "2025-09-03T13:55:13.573782Z",
     "iopub.status.idle": "2025-09-03T13:55:13.596122Z",
     "shell.execute_reply": "2025-09-03T13:55:13.595629Z",
     "shell.execute_reply.started": "2025-09-03T13:55:13.574311Z"
    }
   },
   "outputs": [],
   "source": [
    "def mlx_train_mnist(bucket: str, model_name: str):\n",
    "    import time\n",
    "    from functools import partial\n",
    "    import mlx.core as mx\n",
    "    import mlx.nn as nn\n",
    "    import mlx.optimizers as optim\n",
    "    from mlx.data.datasets import load_mnist\n",
    "    import boto3\n",
    "\n",
    "\n",
    "    # Define a simple MLP model with MLX.\n",
    "    class MLP(nn.Module):\n",
    "        def __init__(\n",
    "            self, in_dims: int, hidden_dims: int, num_layers: int, out_dims: int\n",
    "        ):\n",
    "            super().__init__()\n",
    "            layer_sizes = [in_dims] + [hidden_dims] * num_layers + [out_dims]\n",
    "            self.layers = [\n",
    "                nn.Linear(idim, odim)\n",
    "                for idim, odim in zip(layer_sizes[:-1], layer_sizes[1:])\n",
    "            ]\n",
    "\n",
    "        def __call__(self, x):\n",
    "            for layer in self.layers[:-1]:\n",
    "                x = nn.relu(layer(x))\n",
    "            return self.layers[-1](x)\n",
    "\n",
    "    # Initializer MLX distributed backend.\n",
    "    dist = mx.distributed.init(strict=True, backend=\"mpi\")\n",
    "    world_size = dist.size()\n",
    "    rank = dist.rank()\n",
    "    print(f\"Start Distributed Training, WORLD_SIZE: {world_size}, RANK: {rank}\")\n",
    "\n",
    "    if rank == 0:\n",
    "        print(\"Download MNIST dataset\")\n",
    "\n",
    "    # Load MNIST dataset and partition it.\n",
    "    BATCH_SIZE = 128\n",
    "    train_dataset = load_mnist()\n",
    "\n",
    "    distributed_ds = (\n",
    "        train_dataset.shuffle()\n",
    "        .partition_if(world_size > 1, world_size, rank)\n",
    "        .key_transform(\"image\", lambda x: (x.astype(\"float32\") / 255.0).ravel())\n",
    "    )\n",
    "\n",
    "    # Create the MLP model and SGD optimizer\n",
    "    model = MLP(\n",
    "        in_dims=distributed_ds[0][\"image\"].shape[-1],\n",
    "        hidden_dims=32,\n",
    "        num_layers=2,\n",
    "        out_dims=10,\n",
    "    )\n",
    "    optimizer = optim.SGD(learning_rate=0.01)\n",
    "\n",
    "    # Define function to calculate loss and accuracy.\n",
    "    def loss_fn(model, x, y):\n",
    "        output = model(x)\n",
    "        loss = mx.mean(nn.losses.cross_entropy(output, y))\n",
    "        acc = mx.mean(mx.argmax(output, axis=1) == y)\n",
    "        return loss, acc\n",
    "\n",
    "    # Define single training step.\n",
    "    @partial(mx.compile, inputs=model.state, outputs=model.state)\n",
    "    def step(x, y):\n",
    "        loss_and_grad_fn = nn.value_and_grad(model, loss_fn)\n",
    "        (loss, acc), grads = loss_and_grad_fn(model, x, y)\n",
    "        # Average grads to aggregate them across distributed nodes.\n",
    "        grads = nn.utils.average_gradients(grads)\n",
    "        optimizer.update(model, grads)\n",
    "        return loss, acc\n",
    "\n",
    "    # Average statistic across distributed nodes.\n",
    "    def average_stats(stats, count):\n",
    "        with mx.stream(mx.cpu):\n",
    "            stats = mx.distributed.all_sum(mx.array(stats))\n",
    "            count = mx.distributed.all_sum(count)\n",
    "            return (stats / count).tolist()\n",
    "\n",
    "    # Start distributed training.\n",
    "    if rank == 0:\n",
    "        print(\"Start MLX training\")\n",
    "    for epoch in range(15):\n",
    "        epoch_start = time.perf_counter()\n",
    "        losses = accuracies = count = 0\n",
    "\n",
    "        for batch_idx, batch_sample in enumerate(distributed_ds.batch(BATCH_SIZE)):\n",
    "            x = mx.array(batch_sample[\"image\"])\n",
    "            y = mx.array(batch_sample[\"label\"])\n",
    "            loss, acc = step(x, y)\n",
    "            mx.eval(loss, acc, model.state)\n",
    "\n",
    "            losses += loss.item()\n",
    "            accuracies += acc.item()\n",
    "            count += 1\n",
    "\n",
    "            # Print the results.\n",
    "            if batch_idx % 10 == 0:\n",
    "                loss, acc = average_stats([losses, accuracies], count)\n",
    "                if rank == 0:\n",
    "                    print(\n",
    "                        \"Epoch: {} [{}/{} ({:.0f}%)] \\tTrain loss: {:.3f}, acc: {:.3f}\".format(\n",
    "                            epoch,\n",
    "                            batch_idx * len(x),\n",
    "                            len(train_dataset),\n",
    "                            100.0 * batch_idx * len(x) / len(train_dataset),\n",
    "                            loss,\n",
    "                            acc,\n",
    "                        )\n",
    "                    )\n",
    "        if rank == 0:\n",
    "            print(\n",
    "                \"Epoch: {}, time: {:.2f} seconds\\n\\n\".format(\n",
    "                    epoch, time.perf_counter() - epoch_start\n",
    "                )\n",
    "            )\n",
    "\n",
    "    # Finally, export model to S3.\n",
    "    if rank == 0:\n",
    "        print(\"Exporting MNIST model to S3\")\n",
    "        model.save_weights(model_name)\n",
    "        boto3.client(\"s3\").upload_file(model_name, bucket, model_name)"
   ]
  },
  {
   "cell_type": "markdown",
   "id": "875abc44-69dd-41d8-bb2a-436f730a2dd0",
   "metadata": {},
   "source": [
    "## Get the MLX Runtime\n",
    "\n",
    "You can list the available Kubeflow Trainer runtimes with the `list_runtimes()` API.\n",
    "\n",
    "The name of MLX runtime is `mlx-distributed`."
   ]
  },
  {
   "cell_type": "code",
   "execution_count": 6,
   "id": "51d8bc1d-8d9b-48f7-866f-c6ad4ad4241b",
   "metadata": {
    "execution": {
     "iopub.execute_input": "2025-09-03T13:55:15.098146Z",
     "iopub.status.busy": "2025-09-03T13:55:15.097519Z",
     "iopub.status.idle": "2025-09-03T13:55:16.427811Z",
     "shell.execute_reply": "2025-09-03T13:55:16.426671Z",
     "shell.execute_reply.started": "2025-09-03T13:55:15.098088Z"
    }
   },
   "outputs": [
    {
     "name": "stdout",
     "output_type": "stream",
     "text": [
      "Name: mlx-distributed, Framework: mlx, Trainer Type: CustomTrainer\n",
      "\n"
     ]
    }
   ],
   "source": [
    "from kubeflow.trainer import TrainerClient, CustomTrainer\n",
    "\n",
    "for r in TrainerClient().list_runtimes():\n",
    "    if r.name == \"mlx-distributed\":\n",
    "        print(f\"Name: {r.name}, Framework: {r.trainer.framework}, Trainer Type: {r.trainer.trainer_type.value}\\n\")\n",
    "        mlx_runtime = r"
   ]
  },
  {
   "cell_type": "markdown",
   "id": "206c389d-9dcb-474f-b0f5-cc098de2e183",
   "metadata": {},
   "source": [
    "## Create TrainJob for Distributed Training\n",
    "\n",
    "Use the `train()` API to create distributed TrainJob on **3 GPUs**. Every MPI training node uses 1 GPU.\n",
    "\n",
    "**Note:** Update the S3 bucket name."
   ]
  },
  {
   "cell_type": "code",
   "execution_count": 3,
   "id": "cabf303b-bd93-4737-9aef-a1e7f262d915",
   "metadata": {
    "execution": {
     "iopub.execute_input": "2025-09-03T13:59:50.086024Z",
     "iopub.status.busy": "2025-09-03T13:59:50.085515Z",
     "iopub.status.idle": "2025-09-03T13:59:50.090178Z",
     "shell.execute_reply": "2025-09-03T13:59:50.089133Z",
     "shell.execute_reply.started": "2025-09-03T13:59:50.085991Z"
    }
   },
   "outputs": [],
   "source": [
    "# BUCKET = \"Add your S3 bucket\"\n",
    "MODEL = \"mnist.npz\""
   ]
  },
  {
   "cell_type": "code",
   "execution_count": null,
   "id": "76dab189-f184-4e48-be74-f32c0dea675b",
   "metadata": {
    "execution": {
     "iopub.execute_input": "2025-09-03T13:55:42.628645Z",
     "iopub.status.busy": "2025-09-03T13:55:42.627915Z",
     "iopub.status.idle": "2025-09-03T13:55:43.775027Z",
     "shell.execute_reply": "2025-09-03T13:55:43.773225Z",
     "shell.execute_reply.started": "2025-09-03T13:55:42.628581Z"
    }
   },
   "outputs": [],
   "source": [
    "args = {\"bucket\": BUCKET, \"model_name\": MODEL}\n",
    "\n",
    "job_id = TrainerClient().train(\n",
    "    trainer=CustomTrainer(\n",
    "        func=mlx_train_mnist,\n",
    "        func_args=args,\n",
    "        num_nodes=3,\n",
    "        packages_to_install=[\"boto3\"],\n",
    "    ),\n",
    "    runtime=mlx_runtime,\n",
    ")"
   ]
  },
  {
   "cell_type": "code",
   "execution_count": 12,
   "id": "6e1811dd-4bf2-40cf-ad35-35a87271eb21",
   "metadata": {
    "execution": {
     "iopub.execute_input": "2025-09-03T13:55:43.998269Z",
     "iopub.status.busy": "2025-09-03T13:55:43.997757Z",
     "iopub.status.idle": "2025-09-03T13:55:44.005066Z",
     "shell.execute_reply": "2025-09-03T13:55:44.004068Z",
     "shell.execute_reply.started": "2025-09-03T13:55:43.998220Z"
    }
   },
   "outputs": [
    {
     "data": {
      "text/plain": [
       "'d2cd1310e282'"
      ]
     },
     "execution_count": 12,
     "metadata": {},
     "output_type": "execute_result"
    }
   ],
   "source": [
    "# Train API generates a random TrainJob id.\n",
    "job_id"
   ]
  },
  {
   "cell_type": "markdown",
   "id": "f0864121-895f-4e5a-87b8-7ea2d92e6630",
   "metadata": {},
   "source": [
    "## Check the TrainJob Info\n",
    "\n",
    "Use the `list_jobs()` and `get_job()` APIs to get information about created TrainJob and its steps."
   ]
  },
  {
   "cell_type": "code",
   "execution_count": 13,
   "id": "8a945930-6cfe-4388-8ab8-462474f3f21f",
   "metadata": {
    "execution": {
     "iopub.execute_input": "2025-09-03T13:55:45.381700Z",
     "iopub.status.busy": "2025-09-03T13:55:45.381228Z",
     "iopub.status.idle": "2025-09-03T13:55:47.042924Z",
     "shell.execute_reply": "2025-09-03T13:55:47.041806Z",
     "shell.execute_reply.started": "2025-09-03T13:55:45.381667Z"
    }
   },
   "outputs": [
    {
     "name": "stdout",
     "output_type": "stream",
     "text": [
      "TrainJob: d2cd1310e282, Status: Created, Created at: 2025-09-03 13:55:43+00:00\n"
     ]
    }
   ],
   "source": [
    "for job in TrainerClient().list_jobs():\n",
    "    print(f\"TrainJob: {job.name}, Status: {job.status}, Created at: {job.creation_timestamp}\")"
   ]
  },
  {
   "cell_type": "code",
   "execution_count": 15,
   "id": "75e8c741-6d31-49a2-8667-d38e40d62430",
   "metadata": {
    "execution": {
     "iopub.execute_input": "2025-09-03T13:56:15.189672Z",
     "iopub.status.busy": "2025-09-03T13:56:15.189144Z",
     "iopub.status.idle": "2025-09-03T13:56:16.882229Z",
     "shell.execute_reply": "2025-09-03T13:56:16.881977Z",
     "shell.execute_reply.started": "2025-09-03T13:56:15.189605Z"
    }
   },
   "outputs": [
    {
     "name": "stdout",
     "output_type": "stream",
     "text": [
      "Step: node-0, Status: Running, Devices: gpu x 1\n",
      "\n",
      "Step: node-1, Status: Running, Devices: gpu x 1\n",
      "\n",
      "Step: node-2, Status: Running, Devices: gpu x 1\n",
      "\n"
     ]
    }
   ],
   "source": [
    "# We execute mpirun command on node-0, which functions as the MPI Launcher node.\n",
    "for c in TrainerClient().get_job(name=job_id).steps:\n",
    "    print(f\"Step: {c.name}, Status: {c.status}, Devices: {c.device} x {c.device_count}\\n\")"
   ]
  },
  {
   "cell_type": "markdown",
   "id": "d4fa3ea2-bdf5-40ca-a9ec-cc948949ea59",
   "metadata": {},
   "source": [
    "## Get the TrainJob Logs\n",
    "\n",
    "Use the `get_job_logs()` API to retrieve the TrainJob logs.\n",
    "\n",
    "Since we distribute the dataset across 3 GPUs, each rank processes `round(60,000 / 3) = 20,000` samples."
   ]
  },
  {
   "cell_type": "code",
   "execution_count": 17,
   "id": "6e630fd3-f061-4fea-8024-7bffcefb257c",
   "metadata": {
    "execution": {
     "iopub.execute_input": "2025-09-03T13:56:21.858902Z",
     "iopub.status.busy": "2025-09-03T13:56:21.858212Z",
     "iopub.status.idle": "2025-09-03T13:56:55.317989Z",
     "shell.execute_reply": "2025-09-03T13:56:55.316833Z",
     "shell.execute_reply.started": "2025-09-03T13:56:21.858844Z"
    },
    "scrolled": true
   },
   "outputs": [
    {
     "name": "stdout",
     "output_type": "stream",
     "text": [
      "Warning: Permanently added '[d2cd1310e282-node-0-0.d2cd1310e282]:2222' (ECDSA) to the list of known hosts.\n",
      "Warning: Permanently added '[d2cd1310e282-node-0-1.d2cd1310e282]:2222' (ECDSA) to the list of known hosts.\n",
      "Start Distributed Training, WORLD_SIZE: 3, RANK: 0\n",
      "Download MNIST dataset\n",
      "Start Distributed Training, WORLD_SIZE: 3, RANK: 2\n",
      "Start Distributed Training, WORLD_SIZE: 3, RANK: 1\n",
      "Downloading https://raw.githubusercontent.com/fgnt/mnist/master/train-images-idx3-ubyte.gz |████████████████████████                | 5.7MiB / 9.5MiB (91.9MiB/s)   \n",
      "Downloading https://raw.githubusercontent.com/fgnt/mnist/master/train-images-idx3-ubyte.gz |████████████████████████████████████████| 9.3MiB / 9.5MiB (128.3MiB/s)  \n",
      "Downloading https://raw.githubusercontent.com/fgnt/mnist/master/train-images-idx3-ubyte.gz 9.5MiB (129.2MiB/s)                                                      \n",
      "Downloading https://raw.githubusercontent.com/fgnt/mnist/master/t10k-images-idx3-ubyte.gz |████████████████████                    | 816.0KiB / 1.6MiB (20.1MiB/s) \n",
      "Downloading https://raw.githubusercontent.com/fgnt/mnist/master/t10k-images-idx3-ubyte.gz 1.6MiB (36.0MiB/s)                                                       \n",
      "Downloading https://raw.githubusercontent.com/fgnt/mnist/master/t10k-images-idx3-ubyte.gz 1.6MiB (33.8MiB/s)                                                       \n",
      "Downloading https://raw.githubusercontent.com/fgnt/mnist/master/train-labels-idx1-ubyte.gz 32.0KiB (17.1MiB/s)                                                     \n",
      "Downloading https://raw.githubusercontent.com/fgnt/mnist/master/train-labels-idx1-ubyte.gz 32.0KiB (18.5MiB/s)                                                     \n",
      "Downloading https://raw.githubusercontent.com/fgnt/mnist/master/train-labels-idx1-ubyte.gz 32.0KiB (18.2MiB/s)                                                     \n",
      "Downloading https://raw.githubusercontent.com/fgnt/mnist/master/t10k-labels-idx1-ubyte.gz 8.0KiB (60.0MiB/s)                                               \n",
      "Downloading https://raw.githubusercontent.com/fgnt/mnist/master/t10k-labels-idx1-ubyte.gz 8.0KiB (58.7MiB/s)                                               \n",
      "Downloading https://raw.githubusercontent.com/fgnt/mnist/master/t10k-labels-idx1-ubyte.gz 8.0KiB (49.2MiB/s)                                               \n",
      "Start MLX training\n",
      "Epoch: 0 [0/60000 (0%)] \tTrain loss: 2.299, acc: 0.117\n",
      "Epoch: 0 [1280/60000 (2%)] \tTrain loss: 2.304, acc: 0.108\n",
      "Epoch: 0 [2560/60000 (4%)] \tTrain loss: 2.303, acc: 0.110\n",
      "Epoch: 0 [3840/60000 (6%)] \tTrain loss: 2.302, acc: 0.112\n",
      "Epoch: 0 [5120/60000 (9%)] \tTrain loss: 2.301, acc: 0.117\n",
      "Epoch: 0 [6400/60000 (11%)] \tTrain loss: 2.300, acc: 0.122\n",
      "Epoch: 0 [7680/60000 (13%)] \tTrain loss: 2.300, acc: 0.125\n",
      "Epoch: 0 [8960/60000 (15%)] \tTrain loss: 2.299, acc: 0.130\n",
      "Epoch: 0 [10240/60000 (17%)] \tTrain loss: 2.298, acc: 0.135\n",
      "Epoch: 0 [11520/60000 (19%)] \tTrain loss: 2.297, acc: 0.138\n",
      "Epoch: 0 [12800/60000 (21%)] \tTrain loss: 2.297, acc: 0.142\n",
      "Epoch: 0 [14080/60000 (23%)] \tTrain loss: 2.296, acc: 0.146\n",
      "Epoch: 0 [15360/60000 (26%)] \tTrain loss: 2.295, acc: 0.150\n",
      "Epoch: 0 [16640/60000 (28%)] \tTrain loss: 2.294, acc: 0.153\n",
      "Epoch: 0 [17920/60000 (30%)] \tTrain loss: 2.294, acc: 0.157\n",
      "Epoch: 0 [19200/60000 (32%)] \tTrain loss: 2.293, acc: 0.160\n",
      "Epoch: 0, time: 29.09 seconds\n",
      "\n",
      "\n",
      "Epoch: 1 [0/60000 (0%)] \tTrain loss: 2.272, acc: 0.245\n",
      "Epoch: 1 [1280/60000 (2%)] \tTrain loss: 2.279, acc: 0.222\n",
      "Epoch: 1 [2560/60000 (4%)] \tTrain loss: 2.277, acc: 0.223\n",
      "Epoch: 1 [3840/60000 (6%)] \tTrain loss: 2.276, acc: 0.230\n",
      "Epoch: 1 [5120/60000 (9%)] \tTrain loss: 2.275, acc: 0.230\n",
      "Epoch: 1 [6400/60000 (11%)] \tTrain loss: 2.274, acc: 0.235\n",
      "Epoch: 1 [7680/60000 (13%)] \tTrain loss: 2.273, acc: 0.237\n",
      "Epoch: 1 [8960/60000 (15%)] \tTrain loss: 2.272, acc: 0.240\n",
      "Epoch: 1 [10240/60000 (17%)] \tTrain loss: 2.270, acc: 0.244\n",
      "Epoch: 1 [11520/60000 (19%)] \tTrain loss: 2.270, acc: 0.247\n",
      "Epoch: 1 [12800/60000 (21%)] \tTrain loss: 2.269, acc: 0.250\n",
      "Epoch: 1 [14080/60000 (23%)] \tTrain loss: 2.267, acc: 0.252\n",
      "Epoch: 1 [15360/60000 (26%)] \tTrain loss: 2.266, acc: 0.255\n",
      "Epoch: 1 [16640/60000 (28%)] \tTrain loss: 2.265, acc: 0.256\n",
      "Epoch: 1 [17920/60000 (30%)] \tTrain loss: 2.264, acc: 0.259\n",
      "Epoch: 1 [19200/60000 (32%)] \tTrain loss: 2.263, acc: 0.262\n",
      "Epoch: 1, time: 0.52 seconds\n",
      "\n",
      "\n",
      "Epoch: 2 [0/60000 (0%)] \tTrain loss: 2.235, acc: 0.297\n",
      "Epoch: 2 [1280/60000 (2%)] \tTrain loss: 2.241, acc: 0.306\n",
      "Epoch: 2 [2560/60000 (4%)] \tTrain loss: 2.239, acc: 0.305\n",
      "Epoch: 2 [3840/60000 (6%)] \tTrain loss: 2.236, acc: 0.311\n",
      "Epoch: 2 [5120/60000 (9%)] \tTrain loss: 2.236, acc: 0.309\n",
      "Epoch: 2 [6400/60000 (11%)] \tTrain loss: 2.234, acc: 0.313\n",
      "Epoch: 2 [7680/60000 (13%)] \tTrain loss: 2.232, acc: 0.313\n",
      "Epoch: 2 [8960/60000 (15%)] \tTrain loss: 2.231, acc: 0.314\n",
      "Epoch: 2 [10240/60000 (17%)] \tTrain loss: 2.229, acc: 0.316\n",
      "Epoch: 2 [11520/60000 (19%)] \tTrain loss: 2.227, acc: 0.316\n",
      "Epoch: 2 [12800/60000 (21%)] \tTrain loss: 2.226, acc: 0.316\n",
      "Epoch: 2 [14080/60000 (23%)] \tTrain loss: 2.224, acc: 0.317\n",
      "Epoch: 2 [15360/60000 (26%)] \tTrain loss: 2.222, acc: 0.319\n",
      "Epoch: 2 [16640/60000 (28%)] \tTrain loss: 2.220, acc: 0.318\n",
      "Epoch: 2 [17920/60000 (30%)] \tTrain loss: 2.218, acc: 0.319\n",
      "Epoch: 2 [19200/60000 (32%)] \tTrain loss: 2.216, acc: 0.320\n",
      "Epoch: 2, time: 0.50 seconds\n",
      "\n",
      "\n",
      "Epoch: 3 [0/60000 (0%)] \tTrain loss: 2.173, acc: 0.344\n",
      "Epoch: 3 [1280/60000 (2%)] \tTrain loss: 2.180, acc: 0.341\n",
      "Epoch: 3 [2560/60000 (4%)] \tTrain loss: 2.177, acc: 0.337\n",
      "Epoch: 3 [3840/60000 (6%)] \tTrain loss: 2.171, acc: 0.342\n",
      "Epoch: 3 [5120/60000 (9%)] \tTrain loss: 2.170, acc: 0.338\n",
      "Epoch: 3 [6400/60000 (11%)] \tTrain loss: 2.166, acc: 0.342\n",
      "Epoch: 3 [7680/60000 (13%)] \tTrain loss: 2.164, acc: 0.342\n",
      "Epoch: 3 [8960/60000 (15%)] \tTrain loss: 2.161, acc: 0.343\n",
      "Epoch: 3 [10240/60000 (17%)] \tTrain loss: 2.158, acc: 0.345\n",
      "Epoch: 3 [11520/60000 (19%)] \tTrain loss: 2.155, acc: 0.344\n",
      "Epoch: 3 [12800/60000 (21%)] \tTrain loss: 2.152, acc: 0.345\n",
      "Epoch: 3 [14080/60000 (23%)] \tTrain loss: 2.148, acc: 0.345\n",
      "Epoch: 3 [15360/60000 (26%)] \tTrain loss: 2.145, acc: 0.347\n",
      "Epoch: 3 [16640/60000 (28%)] \tTrain loss: 2.142, acc: 0.347\n",
      "Epoch: 3 [17920/60000 (30%)] \tTrain loss: 2.138, acc: 0.348\n",
      "Epoch: 3 [19200/60000 (32%)] \tTrain loss: 2.134, acc: 0.350\n",
      "Epoch: 3, time: 0.49 seconds\n",
      "\n",
      "\n",
      "Epoch: 4 [0/60000 (0%)] \tTrain loss: 2.061, acc: 0.378\n",
      "Epoch: 4 [1280/60000 (2%)] \tTrain loss: 2.067, acc: 0.381\n",
      "Epoch: 4 [2560/60000 (4%)] \tTrain loss: 2.060, acc: 0.377\n",
      "Epoch: 4 [3840/60000 (6%)] \tTrain loss: 2.050, acc: 0.386\n",
      "Epoch: 4 [5120/60000 (9%)] \tTrain loss: 2.047, acc: 0.381\n",
      "Epoch: 4 [6400/60000 (11%)] \tTrain loss: 2.041, acc: 0.386\n",
      "Epoch: 4 [7680/60000 (13%)] \tTrain loss: 2.036, acc: 0.386\n",
      "Epoch: 4 [8960/60000 (15%)] \tTrain loss: 2.031, acc: 0.386\n",
      "Epoch: 4 [10240/60000 (17%)] \tTrain loss: 2.025, acc: 0.389\n",
      "Epoch: 4 [11520/60000 (19%)] \tTrain loss: 2.019, acc: 0.391\n",
      "Epoch: 4 [12800/60000 (21%)] \tTrain loss: 2.014, acc: 0.392\n",
      "Epoch: 4 [14080/60000 (23%)] \tTrain loss: 2.008, acc: 0.394\n",
      "Epoch: 4 [15360/60000 (26%)] \tTrain loss: 2.001, acc: 0.398\n",
      "Epoch: 4 [16640/60000 (28%)] \tTrain loss: 1.996, acc: 0.399\n",
      "Epoch: 4 [17920/60000 (30%)] \tTrain loss: 1.989, acc: 0.402\n",
      "Epoch: 4 [19200/60000 (32%)] \tTrain loss: 1.983, acc: 0.405\n",
      "Epoch: 4, time: 0.50 seconds\n",
      "\n",
      "\n",
      "Epoch: 5 [0/60000 (0%)] \tTrain loss: 1.861, acc: 0.484\n",
      "Epoch: 5 [1280/60000 (2%)] \tTrain loss: 1.868, acc: 0.458\n",
      "Epoch: 5 [2560/60000 (4%)] \tTrain loss: 1.858, acc: 0.456\n",
      "Epoch: 5 [3840/60000 (6%)] \tTrain loss: 1.843, acc: 0.465\n",
      "Epoch: 5 [5120/60000 (9%)] \tTrain loss: 1.838, acc: 0.464\n",
      "Epoch: 5 [6400/60000 (11%)] \tTrain loss: 1.828, acc: 0.469\n",
      "Epoch: 5 [7680/60000 (13%)] \tTrain loss: 1.822, acc: 0.472\n",
      "Epoch: 5 [8960/60000 (15%)] \tTrain loss: 1.815, acc: 0.475\n",
      "Epoch: 5 [10240/60000 (17%)] \tTrain loss: 1.806, acc: 0.479\n",
      "Epoch: 5 [11520/60000 (19%)] \tTrain loss: 1.798, acc: 0.483\n",
      "Epoch: 5 [12800/60000 (21%)] \tTrain loss: 1.790, acc: 0.485\n",
      "Epoch: 5 [14080/60000 (23%)] \tTrain loss: 1.781, acc: 0.489\n",
      "Epoch: 5 [15360/60000 (26%)] \tTrain loss: 1.771, acc: 0.493\n",
      "Epoch: 5 [16640/60000 (28%)] \tTrain loss: 1.764, acc: 0.496\n",
      "Epoch: 5 [17920/60000 (30%)] \tTrain loss: 1.755, acc: 0.501\n",
      "Epoch: 5 [19200/60000 (32%)] \tTrain loss: 1.746, acc: 0.505\n",
      "Epoch: 5, time: 0.49 seconds\n",
      "\n",
      "\n",
      "Epoch: 6 [0/60000 (0%)] \tTrain loss: 1.583, acc: 0.583\n",
      "Epoch: 6 [1280/60000 (2%)] \tTrain loss: 1.592, acc: 0.558\n",
      "Epoch: 6 [2560/60000 (4%)] \tTrain loss: 1.579, acc: 0.557\n",
      "Epoch: 6 [3840/60000 (6%)] \tTrain loss: 1.561, acc: 0.569\n",
      "Epoch: 6 [5120/60000 (9%)] \tTrain loss: 1.556, acc: 0.568\n",
      "Epoch: 6 [6400/60000 (11%)] \tTrain loss: 1.544, acc: 0.576\n",
      "Epoch: 6 [7680/60000 (13%)] \tTrain loss: 1.536, acc: 0.579\n",
      "Epoch: 6 [8960/60000 (15%)] \tTrain loss: 1.528, acc: 0.581\n",
      "Epoch: 6 [10240/60000 (17%)] \tTrain loss: 1.517, acc: 0.585\n",
      "Epoch: 6 [11520/60000 (19%)] \tTrain loss: 1.508, acc: 0.589\n",
      "Epoch: 6 [12800/60000 (21%)] \tTrain loss: 1.499, acc: 0.590\n",
      "Epoch: 6 [14080/60000 (23%)] \tTrain loss: 1.488, acc: 0.594\n",
      "Epoch: 6 [15360/60000 (26%)] \tTrain loss: 1.477, acc: 0.597\n",
      "Epoch: 6 [16640/60000 (28%)] \tTrain loss: 1.468, acc: 0.600\n",
      "Epoch: 6 [17920/60000 (30%)] \tTrain loss: 1.459, acc: 0.604\n",
      "Epoch: 6 [19200/60000 (32%)] \tTrain loss: 1.450, acc: 0.607\n",
      "Epoch: 6, time: 0.49 seconds\n",
      "\n",
      "\n",
      "Epoch: 7 [0/60000 (0%)] \tTrain loss: 1.282, acc: 0.664\n",
      "Epoch: 7 [1280/60000 (2%)] \tTrain loss: 1.292, acc: 0.661\n",
      "Epoch: 7 [2560/60000 (4%)] \tTrain loss: 1.281, acc: 0.659\n",
      "Epoch: 7 [3840/60000 (6%)] \tTrain loss: 1.263, acc: 0.668\n",
      "Epoch: 7 [5120/60000 (9%)] \tTrain loss: 1.259, acc: 0.667\n",
      "Epoch: 7 [6400/60000 (11%)] \tTrain loss: 1.248, acc: 0.672\n",
      "Epoch: 7 [7680/60000 (13%)] \tTrain loss: 1.240, acc: 0.674\n",
      "Epoch: 7 [8960/60000 (15%)] \tTrain loss: 1.234, acc: 0.674\n",
      "Epoch: 7 [10240/60000 (17%)] \tTrain loss: 1.224, acc: 0.677\n",
      "Epoch: 7 [11520/60000 (19%)] \tTrain loss: 1.216, acc: 0.680\n",
      "Epoch: 7 [12800/60000 (21%)] \tTrain loss: 1.209, acc: 0.681\n",
      "Epoch: 7 [14080/60000 (23%)] \tTrain loss: 1.199, acc: 0.683\n",
      "Epoch: 7 [15360/60000 (26%)] \tTrain loss: 1.190, acc: 0.684\n",
      "Epoch: 7 [16640/60000 (28%)] \tTrain loss: 1.183, acc: 0.686\n",
      "Epoch: 7 [17920/60000 (30%)] \tTrain loss: 1.175, acc: 0.688\n",
      "Epoch: 7 [19200/60000 (32%)] \tTrain loss: 1.168, acc: 0.690\n",
      "Epoch: 7, time: 0.48 seconds\n",
      "\n",
      "\n",
      "Epoch: 8 [0/60000 (0%)] \tTrain loss: 1.037, acc: 0.747\n",
      "Epoch: 8 [1280/60000 (2%)] \tTrain loss: 1.047, acc: 0.721\n",
      "Epoch: 8 [2560/60000 (4%)] \tTrain loss: 1.040, acc: 0.722\n",
      "Epoch: 8 [3840/60000 (6%)] \tTrain loss: 1.026, acc: 0.727\n",
      "Epoch: 8 [5120/60000 (9%)] \tTrain loss: 1.024, acc: 0.726\n",
      "Epoch: 8 [6400/60000 (11%)] \tTrain loss: 1.014, acc: 0.729\n",
      "Epoch: 8 [7680/60000 (13%)] \tTrain loss: 1.009, acc: 0.730\n",
      "Epoch: 8 [8960/60000 (15%)] \tTrain loss: 1.005, acc: 0.729\n",
      "Epoch: 8 [10240/60000 (17%)] \tTrain loss: 0.998, acc: 0.732\n",
      "Epoch: 8 [11520/60000 (19%)] \tTrain loss: 0.992, acc: 0.733\n",
      "Epoch: 8 [12800/60000 (21%)] \tTrain loss: 0.987, acc: 0.733\n",
      "Epoch: 8 [14080/60000 (23%)] \tTrain loss: 0.979, acc: 0.735\n",
      "Epoch: 8 [15360/60000 (26%)] \tTrain loss: 0.973, acc: 0.736\n",
      "Epoch: 8 [16640/60000 (28%)] \tTrain loss: 0.968, acc: 0.737\n",
      "Epoch: 8 [17920/60000 (30%)] \tTrain loss: 0.962, acc: 0.739\n",
      "Epoch: 8 [19200/60000 (32%)] \tTrain loss: 0.957, acc: 0.740\n",
      "Epoch: 8, time: 0.50 seconds\n",
      "\n",
      "\n",
      "Epoch: 9 [0/60000 (0%)] \tTrain loss: 0.868, acc: 0.758\n",
      "Epoch: 9 [1280/60000 (2%)] \tTrain loss: 0.876, acc: 0.757\n",
      "Epoch: 9 [2560/60000 (4%)] \tTrain loss: 0.874, acc: 0.760\n",
      "Epoch: 9 [3840/60000 (6%)] \tTrain loss: 0.862, acc: 0.765\n",
      "Epoch: 9 [5120/60000 (9%)] \tTrain loss: 0.862, acc: 0.765\n",
      "Epoch: 9 [6400/60000 (11%)] \tTrain loss: 0.853, acc: 0.766\n",
      "Epoch: 9 [7680/60000 (13%)] \tTrain loss: 0.850, acc: 0.766\n",
      "Epoch: 9 [8960/60000 (15%)] \tTrain loss: 0.849, acc: 0.766\n",
      "Epoch: 9 [10240/60000 (17%)] \tTrain loss: 0.843, acc: 0.768\n",
      "Epoch: 9 [11520/60000 (19%)] \tTrain loss: 0.839, acc: 0.769\n",
      "Epoch: 9 [12800/60000 (21%)] \tTrain loss: 0.836, acc: 0.769\n",
      "Epoch: 9 [14080/60000 (23%)] \tTrain loss: 0.830, acc: 0.770\n",
      "Epoch: 9 [15360/60000 (26%)] \tTrain loss: 0.826, acc: 0.771\n",
      "Epoch: 9 [16640/60000 (28%)] \tTrain loss: 0.822, acc: 0.772\n",
      "Epoch: 9 [17920/60000 (30%)] \tTrain loss: 0.818, acc: 0.773\n",
      "Epoch: 9 [19200/60000 (32%)] \tTrain loss: 0.815, acc: 0.775\n",
      "Epoch: 9, time: 0.50 seconds\n",
      "\n",
      "\n",
      "Epoch: 10 [0/60000 (0%)] \tTrain loss: 0.758, acc: 0.794\n",
      "Epoch: 10 [1280/60000 (2%)] \tTrain loss: 0.762, acc: 0.792\n",
      "Epoch: 10 [2560/60000 (4%)] \tTrain loss: 0.762, acc: 0.791\n",
      "Epoch: 10 [3840/60000 (6%)] \tTrain loss: 0.751, acc: 0.795\n",
      "Epoch: 10 [5120/60000 (9%)] \tTrain loss: 0.753, acc: 0.794\n",
      "Epoch: 10 [6400/60000 (11%)] \tTrain loss: 0.744, acc: 0.795\n",
      "Epoch: 10 [7680/60000 (13%)] \tTrain loss: 0.743, acc: 0.795\n",
      "Epoch: 10 [8960/60000 (15%)] \tTrain loss: 0.744, acc: 0.795\n",
      "Epoch: 10 [10240/60000 (17%)] \tTrain loss: 0.739, acc: 0.796\n",
      "Epoch: 10 [11520/60000 (19%)] \tTrain loss: 0.736, acc: 0.797\n",
      "Epoch: 10 [12800/60000 (21%)] \tTrain loss: 0.734, acc: 0.797\n",
      "Epoch: 10 [14080/60000 (23%)] \tTrain loss: 0.728, acc: 0.798\n",
      "Epoch: 10 [15360/60000 (26%)] \tTrain loss: 0.726, acc: 0.798\n",
      "Epoch: 10 [16640/60000 (28%)] \tTrain loss: 0.722, acc: 0.798\n",
      "Epoch: 10 [17920/60000 (30%)] \tTrain loss: 0.720, acc: 0.799\n",
      "Epoch: 10 [19200/60000 (32%)] \tTrain loss: 0.717, acc: 0.800\n",
      "Epoch: 10, time: 0.49 seconds\n",
      "\n",
      "\n",
      "Epoch: 11 [0/60000 (0%)] \tTrain loss: 0.682, acc: 0.815\n",
      "Epoch: 11 [1280/60000 (2%)] \tTrain loss: 0.681, acc: 0.814\n",
      "Epoch: 11 [2560/60000 (4%)] \tTrain loss: 0.682, acc: 0.815\n",
      "Epoch: 11 [3840/60000 (6%)] \tTrain loss: 0.672, acc: 0.817\n",
      "Epoch: 11 [5120/60000 (9%)] \tTrain loss: 0.674, acc: 0.816\n",
      "Epoch: 11 [6400/60000 (11%)] \tTrain loss: 0.667, acc: 0.818\n",
      "Epoch: 11 [7680/60000 (13%)] \tTrain loss: 0.666, acc: 0.817\n",
      "Epoch: 11 [8960/60000 (15%)] \tTrain loss: 0.668, acc: 0.817\n",
      "Epoch: 11 [10240/60000 (17%)] \tTrain loss: 0.664, acc: 0.817\n",
      "Epoch: 11 [11520/60000 (19%)] \tTrain loss: 0.661, acc: 0.818\n",
      "Epoch: 11 [12800/60000 (21%)] \tTrain loss: 0.660, acc: 0.818\n",
      "Epoch: 11 [14080/60000 (23%)] \tTrain loss: 0.655, acc: 0.819\n",
      "Epoch: 11 [15360/60000 (26%)] \tTrain loss: 0.653, acc: 0.819\n",
      "Epoch: 11 [16640/60000 (28%)] \tTrain loss: 0.650, acc: 0.819\n",
      "Epoch: 11 [17920/60000 (30%)] \tTrain loss: 0.648, acc: 0.820\n",
      "Epoch: 11 [19200/60000 (32%)] \tTrain loss: 0.646, acc: 0.821\n",
      "Epoch: 11, time: 0.49 seconds\n",
      "\n",
      "\n",
      "Epoch: 12 [0/60000 (0%)] \tTrain loss: 0.625, acc: 0.839\n",
      "Epoch: 12 [1280/60000 (2%)] \tTrain loss: 0.619, acc: 0.835\n",
      "Epoch: 12 [2560/60000 (4%)] \tTrain loss: 0.621, acc: 0.834\n",
      "Epoch: 12 [3840/60000 (6%)] \tTrain loss: 0.611, acc: 0.835\n",
      "Epoch: 12 [5120/60000 (9%)] \tTrain loss: 0.614, acc: 0.832\n",
      "Epoch: 12 [6400/60000 (11%)] \tTrain loss: 0.607, acc: 0.835\n",
      "Epoch: 12 [7680/60000 (13%)] \tTrain loss: 0.607, acc: 0.834\n",
      "Epoch: 12 [8960/60000 (15%)] \tTrain loss: 0.609, acc: 0.834\n",
      "Epoch: 12 [10240/60000 (17%)] \tTrain loss: 0.606, acc: 0.834\n",
      "Epoch: 12 [11520/60000 (19%)] \tTrain loss: 0.604, acc: 0.835\n",
      "Epoch: 12 [12800/60000 (21%)] \tTrain loss: 0.603, acc: 0.834\n",
      "Epoch: 12 [14080/60000 (23%)] \tTrain loss: 0.598, acc: 0.835\n",
      "Epoch: 12 [15360/60000 (26%)] \tTrain loss: 0.597, acc: 0.835\n",
      "Epoch: 12 [16640/60000 (28%)] \tTrain loss: 0.594, acc: 0.836\n",
      "Epoch: 12 [17920/60000 (30%)] \tTrain loss: 0.592, acc: 0.836\n",
      "Epoch: 12 [19200/60000 (32%)] \tTrain loss: 0.591, acc: 0.837\n",
      "Epoch: 12, time: 0.49 seconds\n",
      "\n",
      "\n",
      "Epoch: 13 [0/60000 (0%)] \tTrain loss: 0.580, acc: 0.852\n",
      "Epoch: 13 [1280/60000 (2%)] \tTrain loss: 0.570, acc: 0.847\n",
      "Epoch: 13 [2560/60000 (4%)] \tTrain loss: 0.572, acc: 0.846\n",
      "Epoch: 13 [3840/60000 (6%)] \tTrain loss: 0.563, acc: 0.848\n",
      "Epoch: 13 [5120/60000 (9%)] \tTrain loss: 0.566, acc: 0.845\n",
      "Epoch: 13 [6400/60000 (11%)] \tTrain loss: 0.560, acc: 0.847\n",
      "Epoch: 13 [7680/60000 (13%)] \tTrain loss: 0.561, acc: 0.847\n",
      "Epoch: 13 [8960/60000 (15%)] \tTrain loss: 0.563, acc: 0.846\n",
      "Epoch: 13 [10240/60000 (17%)] \tTrain loss: 0.561, acc: 0.846\n",
      "Epoch: 13 [11520/60000 (19%)] \tTrain loss: 0.558, acc: 0.846\n",
      "Epoch: 13 [12800/60000 (21%)] \tTrain loss: 0.558, acc: 0.846\n",
      "Epoch: 13 [14080/60000 (23%)] \tTrain loss: 0.554, acc: 0.847\n",
      "Epoch: 13 [15360/60000 (26%)] \tTrain loss: 0.553, acc: 0.847\n",
      "Epoch: 13 [16640/60000 (28%)] \tTrain loss: 0.551, acc: 0.847\n",
      "Epoch: 13 [17920/60000 (30%)] \tTrain loss: 0.549, acc: 0.848\n",
      "Epoch: 13 [19200/60000 (32%)] \tTrain loss: 0.547, acc: 0.848\n",
      "Epoch: 13, time: 0.48 seconds\n",
      "\n",
      "\n",
      "Epoch: 14 [0/60000 (0%)] \tTrain loss: 0.544, acc: 0.862\n",
      "Epoch: 14 [1280/60000 (2%)] \tTrain loss: 0.532, acc: 0.857\n",
      "Epoch: 14 [2560/60000 (4%)] \tTrain loss: 0.533, acc: 0.857\n",
      "Epoch: 14 [3840/60000 (6%)] \tTrain loss: 0.525, acc: 0.858\n",
      "Epoch: 14 [5120/60000 (9%)] \tTrain loss: 0.529, acc: 0.856\n",
      "Epoch: 14 [6400/60000 (11%)] \tTrain loss: 0.523, acc: 0.857\n",
      "Epoch: 14 [7680/60000 (13%)] \tTrain loss: 0.524, acc: 0.857\n",
      "Epoch: 14 [8960/60000 (15%)] \tTrain loss: 0.527, acc: 0.856\n",
      "Epoch: 14 [10240/60000 (17%)] \tTrain loss: 0.525, acc: 0.856\n",
      "Epoch: 14 [11520/60000 (19%)] \tTrain loss: 0.523, acc: 0.857\n",
      "Epoch: 14 [12800/60000 (21%)] \tTrain loss: 0.522, acc: 0.857\n",
      "Epoch: 14 [14080/60000 (23%)] \tTrain loss: 0.519, acc: 0.857\n",
      "Epoch: 14 [15360/60000 (26%)] \tTrain loss: 0.518, acc: 0.857\n",
      "Epoch: 14 [16640/60000 (28%)] \tTrain loss: 0.516, acc: 0.858\n",
      "Epoch: 14 [17920/60000 (30%)] \tTrain loss: 0.514, acc: 0.858\n",
      "Epoch: 14 [19200/60000 (32%)] \tTrain loss: 0.513, acc: 0.859\n",
      "Epoch: 14, time: 0.50 seconds\n",
      "\n",
      "\n",
      "Exporting MNIST model to S3\n"
     ]
    }
   ],
   "source": [
    "for logline in TrainerClient().get_job_logs(job_id, follow=True):\n",
    "    print(logline)"
   ]
  },
  {
   "cell_type": "markdown",
   "id": "c0695485-1590-49f2-a97a-e003891fc550",
   "metadata": {},
   "source": [
    "## Evaluate the Trained Model\n",
    "\n",
    "Download the trained model from S3 to evaluate it.\n",
    "\n",
    "We will use test images from the MNIST dataset for prediction.\n",
    "\n",
    "- <span style=\"color:green\">Green label</span> indicate correct predictions.\n",
    "- <span style=\"color:red\">Red label</span> indicate incorrect predictions, with the correct value shown in parentheses."
   ]
  },
  {
   "cell_type": "code",
   "execution_count": 4,
   "id": "fd83db0a-d2ca-4a93-b03f-2ac1cfe03c19",
   "metadata": {
    "execution": {
     "iopub.execute_input": "2025-09-03T13:59:56.567271Z",
     "iopub.status.busy": "2025-09-03T13:59:56.566736Z",
     "iopub.status.idle": "2025-09-03T13:59:57.666905Z",
     "shell.execute_reply": "2025-09-03T13:59:57.665961Z",
     "shell.execute_reply.started": "2025-09-03T13:59:56.567233Z"
    }
   },
   "outputs": [],
   "source": [
    "import boto3\n",
    "\n",
    "boto3.client(\"s3\").download_file(BUCKET, MODEL, MODEL)"
   ]
  },
  {
   "cell_type": "code",
   "execution_count": 7,
   "id": "cda451fb-b96a-42da-aebf-59a1d6c3ec35",
   "metadata": {
    "execution": {
     "iopub.execute_input": "2025-09-03T14:00:06.248094Z",
     "iopub.status.busy": "2025-09-03T14:00:06.247455Z",
     "iopub.status.idle": "2025-09-03T14:00:06.596683Z",
     "shell.execute_reply": "2025-09-03T14:00:06.596467Z",
     "shell.execute_reply.started": "2025-09-03T14:00:06.248047Z"
    }
   },
   "outputs": [
    {
     "data": {
      "image/png": "[encoded data removed]",
      "text/plain": [
       "<Figure size 1500x500 with 20 Axes>"
      ]
     },
     "metadata": {},
     "output_type": "display_data"
    }
   ],
   "source": [
    "import mlx.core as mx\n",
    "import mlx.nn as nn\n",
    "import matplotlib.pyplot as plt\n",
    "from mlx.data.datasets import load_mnist\n",
    "\n",
    "\n",
    "# Load test dataset and take the random batch from it.\n",
    "test_batch = (\n",
    "    load_mnist(train=False)\n",
    "    .key_transform(\"image\", lambda x: (x.astype(\"float32\") / 255.0).ravel())\n",
    "    .batch(20)[mx.random.randint(10, 500)]\n",
    ")\n",
    "\n",
    "class MLP(nn.Module):\n",
    "    def __init__(self, in_dims: int, hidden_dims: int, num_layers: int, out_dims: int):\n",
    "        super().__init__()\n",
    "        layer_sizes = [in_dims] + [hidden_dims] * num_layers + [out_dims]\n",
    "        self.layers = [\n",
    "            nn.Linear(idim, odim)\n",
    "            for idim, odim in zip(layer_sizes[:-1], layer_sizes[1:])\n",
    "        ]\n",
    "\n",
    "    def __call__(self, x):\n",
    "        for layer in self.layers[:-1]:\n",
    "            x = nn.relu(layer(x))\n",
    "        return self.layers[-1](x)\n",
    "\n",
    "# Load weights from the trained model.\n",
    "model = MLP(\n",
    "    in_dims=test_batch[\"image\"][0].shape[-1],\n",
    "    hidden_dims=32,\n",
    "    num_layers=2,\n",
    "    out_dims=10,\n",
    ").load_weights(MODEL)\n",
    "\n",
    "# Send test batch to the pre-trained MLP model.\n",
    "x = mx.array(test_batch[\"image\"])\n",
    "output = model(x)\n",
    "fig = plt.figure(figsize=(15, 5))\n",
    "for i in range(20):\n",
    "    # Format the input image and the model output.\n",
    "    image = test_batch[\"image\"][i].reshape((28, 28))\n",
    "    pred_label = mx.argmax(output[i])\n",
    "\n",
    "    # Add data to the plot.\n",
    "    ax = fig.add_subplot(4, 5, i + 1, xticks=[], yticks=[])\n",
    "    ax.imshow(image, cmap=\"gray\")\n",
    "    if test_batch[\"label\"][i] == pred_label:\n",
    "        ax.set_title(test_batch[\"label\"][i], color=\"green\")\n",
    "    else:\n",
    "        ax.set_title(\"{} ({})\".format(pred_label, test_batch[\"label\"][i]), color=\"red\")\n",
    "\n",
    "    ax.title.set_fontsize(20)\n",
    "    fig.tight_layout()"
   ]
  },
  {
   "cell_type": "markdown",
   "id": "2a132965-9252-466f-af96-34dcafb84d76",
   "metadata": {},
   "source": [
    "## Delete the TrainJob\n",
    "\n",
    "When TrainJob is finished, you can delete the resource."
   ]
  },
  {
   "cell_type": "code",
   "execution_count": null,
   "id": "c8270e6a-80f9-49e8-81be-8ea2de9d204c",
   "metadata": {},
   "outputs": [],
   "source": [
    "TrainerClient().delete_job(job_id)"
   ]
  }
 ],
 "metadata": {
  "kernelspec": {
   "display_name": "Python 3 (ipykernel)",
   "language": "python",
   "name": "python3"
  },
  "language_info": {
   "codemirror_mode": {
    "name": "ipython",
    "version": 3
   },
   "file_extension": ".py",
   "mimetype": "text/x-python",
   "name": "python",
   "nbconvert_exporter": "python",
   "pygments_lexer": "ipython3",
   "version": "3.11.13"
  }
 },
 "nbformat": 4,
 "nbformat_minor": 5
}
