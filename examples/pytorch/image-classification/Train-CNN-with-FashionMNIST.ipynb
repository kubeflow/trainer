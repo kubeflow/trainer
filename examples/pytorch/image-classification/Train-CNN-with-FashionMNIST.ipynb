{
 "cells": [
  {
   "cell_type": "markdown",
   "id": "90d43b56-97e5-45e2-8e67-4488ed31d2df",
   "metadata": {
    "tags": []
   },
   "source": [
    "# Run PyTorchJob From Function\n",
    "\n",
    "In this Notebook we are going to create [Kubeflow PyTorchJob](https://www.kubeflow.org/docs/components/training/pytorch/).\n",
    "\n",
    "The PyTorchJob will run distributive training using [DistributedDataParallel strategy](https://pytorch.org/docs/stable/generated/torch.nn.parallel.DistributedDataParallel.html)."
   ]
  },
  {
   "cell_type": "markdown",
   "id": "a8bb6564-fde3-4c28-841c-012122643dd9",
   "metadata": {
    "tags": []
   },
   "source": [
    "## Install Kubeflow Python SDKs\n",
    "\n",
    "You need to install PyTorch packages and Kubeflow SDKs to run this Notebook."
   ]
  },
  {
   "cell_type": "code",
   "execution_count": null,
   "id": "d49f072e-2221-48bb-9f6d-561713d1a45c",
   "metadata": {},
   "outputs": [],
   "source": [
    "!pip install torch==1.12.1\n",
    "!pip install torchvision==0.13.1\n",
    "\n",
    "# TODO (andreyvelich): Change to release version when SDK with the new APIs is published.\n",
    "!pip install git+https://github.com/kubeflow/training-operator.git#subdirectory=sdk/python"
   ]
  },
  {
   "cell_type": "markdown",
   "id": "e9331a05-9127-4b3a-8077-31157e267827",
   "metadata": {},
   "source": [
    "## Create Train Script for CNN Model\n",
    "\n",
    "This is simple **Convolutional Neural Network (CNN)** model for recognizing different picture of clothing using [Fashion MNIST Dataset](https://github.com/zalandoresearch/fashion-mnist)."
   ]
  },
  {
   "cell_type": "code",
   "execution_count": 2,
   "id": "69f21f33-5c64-452c-90c4-977fc0dadb3b",
   "metadata": {
    "execution": {
     "iopub.execute_input": "2024-03-05T21:44:44.851155Z",
     "iopub.status.busy": "2024-03-05T21:44:44.850918Z",
     "iopub.status.idle": "2024-03-05T21:44:44.862195Z",
     "shell.execute_reply": "2024-03-05T21:44:44.860949Z",
     "shell.execute_reply.started": "2024-03-05T21:44:44.851138Z"
    },
    "tags": []
   },
   "outputs": [],
   "source": [
    "def train_pytorch_model(parameters):\n",
    "    import logging\n",
    "    import os\n",
    "\n",
    "    import torch\n",
    "    import torch.distributed as dist\n",
    "    import torch.nn.functional as F\n",
    "    from torch import nn\n",
    "    from torch.utils.data import DistributedSampler\n",
    "    from torchvision import datasets, transforms\n",
    "\n",
    "    logging.basicConfig(\n",
    "        format=\"%(asctime)s %(levelname)-8s %(message)s\",\n",
    "        datefmt=\"%Y-%m-%dT%H:%M:%SZ\",\n",
    "        level=logging.INFO,\n",
    "    )\n",
    "\n",
    "    # Create PyTorch CNN Model.\n",
    "    class Net(nn.Module):\n",
    "        def __init__(self):\n",
    "            super(Net, self).__init__()\n",
    "            self.conv1 = nn.Conv2d(1, 20, 5, 1)\n",
    "            self.conv2 = nn.Conv2d(20, 50, 5, 1)\n",
    "            self.fc1 = nn.Linear(4 * 4 * 50, 500)\n",
    "            self.fc2 = nn.Linear(500, 10)\n",
    "\n",
    "        def forward(self, x):\n",
    "            x = F.relu(self.conv1(x))\n",
    "            x = F.max_pool2d(x, 2, 2)\n",
    "            x = F.relu(self.conv2(x))\n",
    "            x = F.max_pool2d(x, 2, 2)\n",
    "            x = x.view(-1, 4 * 4 * 50)\n",
    "            x = F.relu(self.fc1(x))\n",
    "            x = self.fc2(x)\n",
    "            return F.log_softmax(x, dim=1)\n",
    "\n",
    "    # Get dist parameters.\n",
    "    # Kubeflow Training Operator automatically set appropriate RANK and WORLD_SIZE based on the configuration.\n",
    "    RANK = int(os.environ[\"RANK\"])\n",
    "    WORLD_SIZE = int(os.environ[\"WORLD_SIZE\"])\n",
    "\n",
    "    # IF GPU is available, nccl dist backend is used. Otherwise, gloo dist backend is used.\n",
    "    if torch.cuda.is_available():\n",
    "        device = \"cuda\"\n",
    "        backend = \"nccl\"\n",
    "    else:\n",
    "        device = \"cpu\"\n",
    "        backend = \"gloo\"\n",
    "\n",
    "    logging.info(f\"Using Device: {device}, Backend: {backend}\")\n",
    "\n",
    "    model = Net()\n",
    "    # Attach model to the device.\n",
    "    model = model.to(device)\n",
    "\n",
    "    # Attach model to DistributedDataParallel strategy.\n",
    "    dist.init_process_group(backend=\"gloo\", rank=RANK, world_size=WORLD_SIZE)\n",
    "    Distributor = nn.parallel.DistributedDataParallel\n",
    "    model = Distributor(model)\n",
    "\n",
    "    # Get Fashion MNIST Dataset.\n",
    "    dataset = datasets.FashionMNIST(\n",
    "        \"./data\",\n",
    "        train=True,\n",
    "        download=True,\n",
    "        transform=transforms.Compose([transforms.ToTensor()]),\n",
    "    )\n",
    "\n",
    "    # Every PyTorchJob worker gets distributed sampler of dataset.\n",
    "    train_loader = torch.utils.data.DataLoader(\n",
    "        dataset,\n",
    "        batch_size=128,\n",
    "        sampler=DistributedSampler(dataset),\n",
    "    )\n",
    "\n",
    "    # Start Training.\n",
    "    logging.info(f\"Start training for RANK: {RANK}. WORLD_SIZE: {WORLD_SIZE}\")\n",
    "\n",
    "    for epoch in range(int(parameters[\"NUM_EPOCHS\"])):\n",
    "        model.train()\n",
    "        optimizer = torch.optim.SGD(model.parameters(), lr=0.01, momentum=0.5)\n",
    "\n",
    "        for batch_idx, (data, target) in enumerate(train_loader):\n",
    "            # Attach tensors to the device.\n",
    "            data = data.to(device)\n",
    "            target = target.to(device)\n",
    "\n",
    "            optimizer.zero_grad()\n",
    "            output = model(data)\n",
    "            loss = F.nll_loss(output, target)\n",
    "            loss.backward()\n",
    "            optimizer.step()\n",
    "            if batch_idx % 10 == 0:\n",
    "                logging.info(\n",
    "                    \"Train Epoch: {} [{}/{} ({:.0f}%)]\\tloss={:.4f}\".format(\n",
    "                        epoch,\n",
    "                        batch_idx * len(data),\n",
    "                        len(train_loader.dataset),\n",
    "                        100.0 * batch_idx / len(train_loader),\n",
    "                        loss.item(),\n",
    "                    )\n",
    "                )\n",
    "\n",
    "    logging.info(\"Training is finished\")"
   ]
  },
  {
   "cell_type": "markdown",
   "id": "8cfe8739-1f94-476a-80e3-dd6e3237d9ed",
   "metadata": {
    "execution": {
     "iopub.execute_input": "2022-09-01T19:32:37.813779Z",
     "iopub.status.busy": "2022-09-01T19:32:37.812759Z",
     "iopub.status.idle": "2022-09-01T19:32:37.827050Z",
     "shell.execute_reply": "2022-09-01T19:32:37.825186Z",
     "shell.execute_reply.started": "2022-09-01T19:32:37.813690Z"
    }
   },
   "source": [
    "## Run Training Locally in the Notebook\n",
    "\n",
    "We are going to download Fashion MNIST Dataset and start local training."
   ]
  },
  {
   "cell_type": "code",
   "execution_count": 3,
   "id": "9e2c6fd8-d0ba-4bc6-ac90-d4cf09751ace",
   "metadata": {
    "execution": {
     "iopub.execute_input": "2024-03-05T21:44:47.071420Z",
     "iopub.status.busy": "2024-03-05T21:44:47.071188Z",
     "iopub.status.idle": "2024-03-05T21:46:56.033826Z",
     "shell.execute_reply": "2024-03-05T21:46:56.032986Z",
     "shell.execute_reply.started": "2024-03-05T21:44:47.071404Z"
    },
    "tags": []
   },
   "outputs": [
    {
     "name": "stderr",
     "output_type": "stream",
     "text": [
      "2024-03-05T21:44:47Z INFO     Using Device: cpu, Backend: gloo\n",
      "2024-03-05T21:44:47Z INFO     Added key: store_based_barrier_key:1 to store for rank: 0\n",
      "2024-03-05T21:44:47Z INFO     Rank 0: Completed store-based barrier for key:store_based_barrier_key:1 with 1 nodes.\n"
     ]
    },
    {
     "name": "stdout",
     "output_type": "stream",
     "text": [
      "Downloading http://fashion-mnist.s3-website.eu-central-1.amazonaws.com/train-images-idx3-ubyte.gz\n",
      "Downloading http://fashion-mnist.s3-website.eu-central-1.amazonaws.com/train-images-idx3-ubyte.gz to ./data/FashionMNIST/raw/train-images-idx3-ubyte.gz\n"
     ]
    },
    {
     "data": {
      "application/vnd.jupyter.widget-view+json": {
       "model_id": "f84c269459b842199b83caaee8bee276",
       "version_major": 2,
       "version_minor": 0
      },
      "text/plain": [
       "  0%|          | 0/26421880 [00:00<?, ?it/s]"
      ]
     },
     "metadata": {},
     "output_type": "display_data"
    },
    {
     "name": "stdout",
     "output_type": "stream",
     "text": [
      "Extracting ./data/FashionMNIST/raw/train-images-idx3-ubyte.gz to ./data/FashionMNIST/raw\n",
      "\n",
      "Downloading http://fashion-mnist.s3-website.eu-central-1.amazonaws.com/train-labels-idx1-ubyte.gz\n",
      "Downloading http://fashion-mnist.s3-website.eu-central-1.amazonaws.com/train-labels-idx1-ubyte.gz to ./data/FashionMNIST/raw/train-labels-idx1-ubyte.gz\n"
     ]
    },
    {
     "data": {
      "application/vnd.jupyter.widget-view+json": {
       "model_id": "d30ad8fbf5764375b67d92ed2ad00a0f",
       "version_major": 2,
       "version_minor": 0
      },
      "text/plain": [
       "  0%|          | 0/29515 [00:00<?, ?it/s]"
      ]
     },
     "metadata": {},
     "output_type": "display_data"
    },
    {
     "name": "stdout",
     "output_type": "stream",
     "text": [
      "Extracting ./data/FashionMNIST/raw/train-labels-idx1-ubyte.gz to ./data/FashionMNIST/raw\n",
      "\n",
      "Downloading http://fashion-mnist.s3-website.eu-central-1.amazonaws.com/t10k-images-idx3-ubyte.gz\n",
      "Downloading http://fashion-mnist.s3-website.eu-central-1.amazonaws.com/t10k-images-idx3-ubyte.gz to ./data/FashionMNIST/raw/t10k-images-idx3-ubyte.gz\n"
     ]
    },
    {
     "data": {
      "application/vnd.jupyter.widget-view+json": {
       "model_id": "7b55bfdfad3f4732b4465f126024ba15",
       "version_major": 2,
       "version_minor": 0
      },
      "text/plain": [
       "  0%|          | 0/4422102 [00:00<?, ?it/s]"
      ]
     },
     "metadata": {},
     "output_type": "display_data"
    },
    {
     "name": "stdout",
     "output_type": "stream",
     "text": [
      "Extracting ./data/FashionMNIST/raw/t10k-images-idx3-ubyte.gz to ./data/FashionMNIST/raw\n",
      "\n",
      "Downloading http://fashion-mnist.s3-website.eu-central-1.amazonaws.com/t10k-labels-idx1-ubyte.gz\n",
      "Downloading http://fashion-mnist.s3-website.eu-central-1.amazonaws.com/t10k-labels-idx1-ubyte.gz to ./data/FashionMNIST/raw/t10k-labels-idx1-ubyte.gz\n"
     ]
    },
    {
     "data": {
      "application/vnd.jupyter.widget-view+json": {
       "model_id": "901afb3fdcae42fd909f835ed7502b8c",
       "version_major": 2,
       "version_minor": 0
      },
      "text/plain": [
       "  0%|          | 0/5148 [00:00<?, ?it/s]"
      ]
     },
     "metadata": {},
     "output_type": "display_data"
    },
    {
     "name": "stderr",
     "output_type": "stream",
     "text": [
      "2024-03-05T21:44:54Z INFO     Start training for RANK: 0. WORLD_SIZE: 1\n"
     ]
    },
    {
     "name": "stdout",
     "output_type": "stream",
     "text": [
      "Extracting ./data/FashionMNIST/raw/t10k-labels-idx1-ubyte.gz to ./data/FashionMNIST/raw\n",
      "\n"
     ]
    },
    {
     "name": "stderr",
     "output_type": "stream",
     "text": [
      "2024-03-05T21:44:54Z INFO     Train Epoch: 0 [0/60000 (0%)]\tloss=2.3120\n",
      "2024-03-05T21:44:54Z INFO     Reducer buckets have been rebuilt in this iteration.\n",
      "2024-03-05T21:44:57Z INFO     Train Epoch: 0 [1280/60000 (2%)]\tloss=2.3065\n",
      "2024-03-05T21:44:59Z INFO     Train Epoch: 0 [2560/60000 (4%)]\tloss=2.2853\n",
      "2024-03-05T21:45:02Z INFO     Train Epoch: 0 [3840/60000 (6%)]\tloss=2.2836\n",
      "2024-03-05T21:45:05Z INFO     Train Epoch: 0 [5120/60000 (9%)]\tloss=2.2772\n",
      "2024-03-05T21:45:07Z INFO     Train Epoch: 0 [6400/60000 (11%)]\tloss=2.2551\n",
      "2024-03-05T21:45:10Z INFO     Train Epoch: 0 [7680/60000 (13%)]\tloss=2.2426\n",
      "2024-03-05T21:45:13Z INFO     Train Epoch: 0 [8960/60000 (15%)]\tloss=2.2236\n",
      "2024-03-05T21:45:16Z INFO     Train Epoch: 0 [10240/60000 (17%)]\tloss=2.1883\n",
      "2024-03-05T21:45:18Z INFO     Train Epoch: 0 [11520/60000 (19%)]\tloss=2.1629\n",
      "2024-03-05T21:45:21Z INFO     Train Epoch: 0 [12800/60000 (21%)]\tloss=2.0908\n",
      "2024-03-05T21:45:23Z INFO     Train Epoch: 0 [14080/60000 (23%)]\tloss=2.0023\n",
      "2024-03-05T21:45:25Z INFO     Train Epoch: 0 [15360/60000 (26%)]\tloss=1.8673\n",
      "2024-03-05T21:45:28Z INFO     Train Epoch: 0 [16640/60000 (28%)]\tloss=1.7227\n",
      "2024-03-05T21:45:30Z INFO     Train Epoch: 0 [17920/60000 (30%)]\tloss=1.5780\n",
      "2024-03-05T21:45:33Z INFO     Train Epoch: 0 [19200/60000 (32%)]\tloss=1.3583\n",
      "2024-03-05T21:45:36Z INFO     Train Epoch: 0 [20480/60000 (34%)]\tloss=1.2497\n",
      "2024-03-05T21:45:38Z INFO     Train Epoch: 0 [21760/60000 (36%)]\tloss=1.0678\n",
      "2024-03-05T21:45:41Z INFO     Train Epoch: 0 [23040/60000 (38%)]\tloss=1.0032\n",
      "2024-03-05T21:45:43Z INFO     Train Epoch: 0 [24320/60000 (41%)]\tloss=1.0607\n",
      "2024-03-05T21:45:46Z INFO     Train Epoch: 0 [25600/60000 (43%)]\tloss=1.1423\n",
      "2024-03-05T21:45:48Z INFO     Train Epoch: 0 [26880/60000 (45%)]\tloss=0.9529\n",
      "2024-03-05T21:45:51Z INFO     Train Epoch: 0 [28160/60000 (47%)]\tloss=1.0706\n",
      "2024-03-05T21:45:53Z INFO     Train Epoch: 0 [29440/60000 (49%)]\tloss=1.0542\n",
      "2024-03-05T21:45:56Z INFO     Train Epoch: 0 [30720/60000 (51%)]\tloss=0.8257\n",
      "2024-03-05T21:45:59Z INFO     Train Epoch: 0 [32000/60000 (53%)]\tloss=1.0569\n",
      "2024-03-05T21:46:01Z INFO     Train Epoch: 0 [33280/60000 (55%)]\tloss=0.8526\n",
      "2024-03-05T21:46:04Z INFO     Train Epoch: 0 [34560/60000 (58%)]\tloss=0.8178\n",
      "2024-03-05T21:46:06Z INFO     Train Epoch: 0 [35840/60000 (60%)]\tloss=0.9800\n",
      "2024-03-05T21:46:09Z INFO     Train Epoch: 0 [37120/60000 (62%)]\tloss=0.9983\n",
      "2024-03-05T21:46:11Z INFO     Train Epoch: 0 [38400/60000 (64%)]\tloss=1.0125\n",
      "2024-03-05T21:46:14Z INFO     Train Epoch: 0 [39680/60000 (66%)]\tloss=0.8065\n",
      "2024-03-05T21:46:17Z INFO     Train Epoch: 0 [40960/60000 (68%)]\tloss=1.0279\n",
      "2024-03-05T21:46:19Z INFO     Train Epoch: 0 [42240/60000 (70%)]\tloss=0.6834\n",
      "2024-03-05T21:46:22Z INFO     Train Epoch: 0 [43520/60000 (72%)]\tloss=0.9552\n",
      "2024-03-05T21:46:25Z INFO     Train Epoch: 0 [44800/60000 (75%)]\tloss=0.9345\n",
      "2024-03-05T21:46:27Z INFO     Train Epoch: 0 [46080/60000 (77%)]\tloss=0.7476\n",
      "2024-03-05T21:46:30Z INFO     Train Epoch: 0 [47360/60000 (79%)]\tloss=0.9566\n",
      "2024-03-05T21:46:32Z INFO     Train Epoch: 0 [48640/60000 (81%)]\tloss=0.9356\n",
      "2024-03-05T21:46:35Z INFO     Train Epoch: 0 [49920/60000 (83%)]\tloss=0.6601\n",
      "2024-03-05T21:46:38Z INFO     Train Epoch: 0 [51200/60000 (85%)]\tloss=0.8929\n",
      "2024-03-05T21:46:40Z INFO     Train Epoch: 0 [52480/60000 (87%)]\tloss=0.7665\n",
      "2024-03-05T21:46:43Z INFO     Train Epoch: 0 [53760/60000 (90%)]\tloss=0.7904\n",
      "2024-03-05T21:46:45Z INFO     Train Epoch: 0 [55040/60000 (92%)]\tloss=0.8413\n",
      "2024-03-05T21:46:48Z INFO     Train Epoch: 0 [56320/60000 (94%)]\tloss=0.7340\n",
      "2024-03-05T21:46:51Z INFO     Train Epoch: 0 [57600/60000 (96%)]\tloss=0.7770\n",
      "2024-03-05T21:46:53Z INFO     Train Epoch: 0 [58880/60000 (98%)]\tloss=0.6644\n",
      "2024-03-05T21:46:56Z INFO     Training is finished\n"
     ]
    }
   ],
   "source": [
    "# Set dist env variables to run the above training locally on the Notebook.\n",
    "import os\n",
    "\n",
    "os.environ[\"RANK\"] = \"0\"\n",
    "os.environ[\"WORLD_SIZE\"] = \"1\"\n",
    "os.environ[\"MASTER_ADDR\"] = \"localhost\"\n",
    "os.environ[\"MASTER_PORT\"] = \"1234\"\n",
    "\n",
    "# Train Model locally in the Notebook.\n",
    "train_pytorch_model({\"NUM_EPOCHS\": \"1\"})"
   ]
  },
  {
   "cell_type": "markdown",
   "id": "5aae47e3-be31-468e-8f38-89e1e2f1c764",
   "metadata": {
    "tags": []
   },
   "source": [
    "## Start Distributive Training with PyTorchJob\n",
    "\n",
    "Before creating PyTorchJob, you have to create `TrainingClient()`. It uses [Kubernetes Python client](https://github.com/kubernetes-client/python) to communicate with Kubernetes API server. You can set path and context for [the kubeconfig file](https://kubernetes.io/docs/concepts/configuration/organize-cluster-access-kubeconfig/). The default location for the kubeconfig is `~/.kube/config`.\n",
    "\n",
    "Kubeflow Training Operator automatically set the appropriate env variables (`MASTER_PORT`, `MASTER_ADDR`, `WORLD_SIZE`, `RANK`) for each PyTorchJob container.\n",
    "\n",
    "PyTorchJob will train model on 3 epochs with 3 PyTorch workers."
   ]
  },
  {
   "cell_type": "code",
   "execution_count": 4,
   "id": "eb1acd34-ebcf-409b-8bb3-0225cee37110",
   "metadata": {
    "execution": {
     "iopub.execute_input": "2024-03-05T21:47:01.685451Z",
     "iopub.status.busy": "2024-03-05T21:47:01.684682Z",
     "iopub.status.idle": "2024-03-05T21:47:01.946879Z",
     "shell.execute_reply": "2024-03-05T21:47:01.945531Z",
     "shell.execute_reply.started": "2024-03-05T21:47:01.685429Z"
    },
    "tags": []
   },
   "outputs": [],
   "source": [
    "from kubeflow.training import TrainingClient, constants\n",
    "\n",
    "# Start PyTorchJob Training.\n",
    "pytorchjob_name = \"train-pytorch\"\n",
    "\n",
    "# Since we set `job_kind = PyTorchJob` APIs are going to use PyTorchJob as a default Job kind.\n",
    "training_client = TrainingClient(job_kind=constants.PYTORCHJOB_KIND)\n",
    "\n",
    "training_client.create_job(\n",
    "    name=pytorchjob_name,\n",
    "    train_func=train_pytorch_model,\n",
    "    parameters={\"NUM_EPOCHS\": \"3\"}, # Input parameters for the train function.\n",
    "    num_workers=3,  # How many PyTorch Workers will be created.\n",
    ")"
   ]
  },
  {
   "cell_type": "markdown",
   "id": "e44c3ad7-62c4-4b58-b52a-15fd8746b772",
   "metadata": {},
   "source": [
    "### Check the PyTorchJob Status\n",
    "\n",
    "Use `TrainingClient()` APIs to get information about created PyTorchJob."
   ]
  },
  {
   "cell_type": "code",
   "execution_count": 5,
   "id": "4141f6c2-c38f-4972-b68a-35d150ef7485",
   "metadata": {
    "execution": {
     "iopub.execute_input": "2024-03-05T21:47:05.021345Z",
     "iopub.status.busy": "2024-03-05T21:47:05.020992Z",
     "iopub.status.idle": "2024-03-05T21:47:05.046311Z",
     "shell.execute_reply": "2024-03-05T21:47:05.044855Z",
     "shell.execute_reply.started": "2024-03-05T21:47:05.021327Z"
    },
    "tags": []
   },
   "outputs": [
    {
     "name": "stdout",
     "output_type": "stream",
     "text": [
      "PyTorchJob Status: True\n"
     ]
    }
   ],
   "source": [
    "print(f\"PyTorchJob Status: {training_client.is_job_running(name=pytorchjob_name)}\")"
   ]
  },
  {
   "cell_type": "markdown",
   "id": "42e10587-7ac2-45bf-9c4f-d418e1585974",
   "metadata": {},
   "source": [
    "### Get PyTorchJob Pod Names\n",
    "\n",
    "Since we used 3 workers, PyTorchJob will create 1 master pod and 2 worker pods to execute distributed training."
   ]
  },
  {
   "cell_type": "code",
   "execution_count": 6,
   "id": "49b53308-a19b-45e8-942f-4333e727ee48",
   "metadata": {
    "execution": {
     "iopub.execute_input": "2024-03-05T21:47:07.929048Z",
     "iopub.status.busy": "2024-03-05T21:47:07.928812Z",
     "iopub.status.idle": "2024-03-05T21:47:07.963438Z",
     "shell.execute_reply": "2024-03-05T21:47:07.962346Z",
     "shell.execute_reply.started": "2024-03-05T21:47:07.929033Z"
    },
    "tags": []
   },
   "outputs": [
    {
     "data": {
      "text/plain": [
       "['train-pytorch-master-0', 'train-pytorch-worker-0', 'train-pytorch-worker-1']"
      ]
     },
     "execution_count": 6,
     "metadata": {},
     "output_type": "execute_result"
    }
   ],
   "source": [
    "training_client.get_job_pod_names(pytorchjob_name)"
   ]
  },
  {
   "cell_type": "markdown",
   "id": "b91d332d-487c-4a95-937d-26ffb6199cda",
   "metadata": {
    "execution": {
     "iopub.status.busy": "2022-09-01T20:10:25.759950Z",
     "iopub.status.idle": "2022-09-01T20:10:25.760581Z",
     "shell.execute_reply": "2022-09-01T20:10:25.760353Z",
     "shell.execute_reply.started": "2022-09-01T20:10:25.760328Z"
    },
    "tags": []
   },
   "source": [
    "### Get PyTorchJob Training Logs\n",
    "\n",
    "We can get the logs from the master pod.\n",
    "\n",
    "Every worker processes 20000 data samples on each epoch since we distribute 60000 samples across 3 workers."
   ]
  },
  {
   "cell_type": "code",
   "execution_count": 8,
   "id": "5232d542-d4bf-4c51-8b11-ad0534fb0b9d",
   "metadata": {
    "execution": {
     "iopub.execute_input": "2024-03-05T21:50:34.618377Z",
     "iopub.status.busy": "2024-03-05T21:50:34.618140Z",
     "iopub.status.idle": "2024-03-05T21:50:34.666228Z",
     "shell.execute_reply": "2024-03-05T21:50:34.664982Z",
     "shell.execute_reply.started": "2024-03-05T21:50:34.618362Z"
    },
    "tags": []
   },
   "outputs": [
    {
     "name": "stdout",
     "output_type": "stream",
     "text": [
      "2024-03-05T21:47:03Z INFO     Using Device: cpu, Backend: gloo\n",
      "Downloading http://fashion-mnist.s3-website.eu-central-1.amazonaws.com/train-images-idx3-ubyte.gz\n",
      "Downloading http://fashion-mnist.s3-website.eu-central-1.amazonaws.com/train-images-idx3-ubyte.gz to ./data/FashionMNIST/raw/train-images-idx3-ubyte.gz\n",
      "100%|██████████| 26421880/26421880 [00:02<00:00, 12643822.46it/s]\n",
      "Extracting ./data/FashionMNIST/raw/train-images-idx3-ubyte.gz to ./data/FashionMNIST/raw\n",
      "\n",
      "Downloading http://fashion-mnist.s3-website.eu-central-1.amazonaws.com/train-labels-idx1-ubyte.gz\n",
      "Downloading http://fashion-mnist.s3-website.eu-central-1.amazonaws.com/train-labels-idx1-ubyte.gz to ./data/FashionMNIST/raw/train-labels-idx1-ubyte.gz\n",
      "Extracting ./data/FashionMNIST/raw/train-labels-idx1-ubyte.gz to ./data/FashionMNIST/raw\n",
      "100%|██████████| 29515/29515 [00:00<00:00, 209382.13it/s]\n",
      "\n",
      "Downloading http://fashion-mnist.s3-website.eu-central-1.amazonaws.com/t10k-images-idx3-ubyte.gz\n",
      "Downloading http://fashion-mnist.s3-website.eu-central-1.amazonaws.com/t10k-images-idx3-ubyte.gz to ./data/FashionMNIST/raw/t10k-images-idx3-ubyte.gz\n",
      "100%|██████████| 4422102/4422102 [00:00<00:00, 5191230.97it/s]\n",
      "Extracting ./data/FashionMNIST/raw/t10k-images-idx3-ubyte.gz to ./data/FashionMNIST/raw\n",
      "\n",
      "Downloading http://fashion-mnist.s3-website.eu-central-1.amazonaws.com/t10k-labels-idx1-ubyte.gz\n",
      "Downloading http://fashion-mnist.s3-website.eu-central-1.amazonaws.com/t10k-labels-idx1-ubyte.gz to ./data/FashionMNIST/raw/t10k-labels-idx1-ubyte.gz\n",
      "100%|██████████| 5148/5148 [00:00<00:00, 57733360.94it/s]\n",
      "Extracting ./data/FashionMNIST/raw/t10k-labels-idx1-ubyte.gz to ./data/FashionMNIST/raw\n",
      "\n",
      "2024-03-05T21:47:16Z INFO     Start training for RANK: 0. WORLD_SIZE: 3\n",
      "2024-03-05T21:47:17Z INFO     Train Epoch: 0 [0/60000 (0%)]\tloss=2.2958\n",
      "2024-03-05T21:47:21Z INFO     Train Epoch: 0 [1280/60000 (6%)]\tloss=2.2902\n",
      "2024-03-05T21:47:26Z INFO     Train Epoch: 0 [2560/60000 (13%)]\tloss=2.2863\n",
      "2024-03-05T21:47:29Z INFO     Train Epoch: 0 [3840/60000 (19%)]\tloss=2.2719\n",
      "2024-03-05T21:47:33Z INFO     Train Epoch: 0 [5120/60000 (25%)]\tloss=2.2630\n",
      "2024-03-05T21:47:38Z INFO     Train Epoch: 0 [6400/60000 (32%)]\tloss=2.2362\n",
      "2024-03-05T21:47:42Z INFO     Train Epoch: 0 [7680/60000 (38%)]\tloss=2.2007\n",
      "2024-03-05T21:47:45Z INFO     Train Epoch: 0 [8960/60000 (45%)]\tloss=2.1735\n",
      "2024-03-05T21:47:49Z INFO     Train Epoch: 0 [10240/60000 (51%)]\tloss=2.1185\n",
      "2024-03-05T21:47:53Z INFO     Train Epoch: 0 [11520/60000 (57%)]\tloss=2.0732\n",
      "2024-03-05T21:47:58Z INFO     Train Epoch: 0 [12800/60000 (64%)]\tloss=1.9446\n",
      "2024-03-05T21:48:02Z INFO     Train Epoch: 0 [14080/60000 (70%)]\tloss=1.7036\n",
      "2024-03-05T21:48:06Z INFO     Train Epoch: 0 [15360/60000 (76%)]\tloss=1.6633\n",
      "2024-03-05T21:48:10Z INFO     Train Epoch: 0 [16640/60000 (83%)]\tloss=1.3292\n",
      "2024-03-05T21:48:14Z INFO     Train Epoch: 0 [17920/60000 (89%)]\tloss=1.3720\n",
      "2024-03-05T21:48:18Z INFO     Train Epoch: 0 [19200/60000 (96%)]\tloss=1.1136\n",
      "2024-03-05T21:48:21Z INFO     Train Epoch: 1 [0/60000 (0%)]\tloss=0.9830\n",
      "2024-03-05T21:48:25Z INFO     Train Epoch: 1 [1280/60000 (6%)]\tloss=1.1548\n",
      "2024-03-05T21:48:29Z INFO     Train Epoch: 1 [2560/60000 (13%)]\tloss=0.9911\n",
      "2024-03-05T21:48:33Z INFO     Train Epoch: 1 [3840/60000 (19%)]\tloss=0.8874\n",
      "2024-03-05T21:48:36Z INFO     Train Epoch: 1 [5120/60000 (25%)]\tloss=1.0731\n",
      "2024-03-05T21:48:39Z INFO     Train Epoch: 1 [6400/60000 (32%)]\tloss=0.7734\n",
      "2024-03-05T21:48:44Z INFO     Train Epoch: 1 [7680/60000 (38%)]\tloss=0.7550\n",
      "2024-03-05T21:48:47Z INFO     Train Epoch: 1 [8960/60000 (45%)]\tloss=0.9045\n",
      "2024-03-05T21:48:51Z INFO     Train Epoch: 1 [10240/60000 (51%)]\tloss=0.8567\n",
      "2024-03-05T21:48:55Z INFO     Train Epoch: 1 [11520/60000 (57%)]\tloss=0.9150\n",
      "2024-03-05T21:48:59Z INFO     Train Epoch: 1 [12800/60000 (64%)]\tloss=0.8769\n",
      "2024-03-05T21:49:02Z INFO     Train Epoch: 1 [14080/60000 (70%)]\tloss=0.8903\n",
      "2024-03-05T21:49:07Z INFO     Train Epoch: 1 [15360/60000 (76%)]\tloss=0.9694\n",
      "2024-03-05T21:49:11Z INFO     Train Epoch: 1 [16640/60000 (83%)]\tloss=0.7397\n",
      "2024-03-05T21:49:14Z INFO     Train Epoch: 1 [17920/60000 (89%)]\tloss=0.9153\n",
      "2024-03-05T21:49:18Z INFO     Train Epoch: 1 [19200/60000 (96%)]\tloss=0.7878\n",
      "2024-03-05T21:49:20Z INFO     Train Epoch: 2 [0/60000 (0%)]\tloss=0.6716\n",
      "2024-03-05T21:49:25Z INFO     Train Epoch: 2 [1280/60000 (6%)]\tloss=0.9508\n",
      "2024-03-05T21:49:29Z INFO     Train Epoch: 2 [2560/60000 (13%)]\tloss=0.7306\n",
      "2024-03-05T21:49:34Z INFO     Train Epoch: 2 [3840/60000 (19%)]\tloss=0.7212\n",
      "2024-03-05T21:49:38Z INFO     Train Epoch: 2 [5120/60000 (25%)]\tloss=0.9555\n",
      "2024-03-05T21:49:42Z INFO     Train Epoch: 2 [6400/60000 (32%)]\tloss=0.6037\n",
      "2024-03-05T21:49:45Z INFO     Train Epoch: 2 [7680/60000 (38%)]\tloss=0.6307\n",
      "2024-03-05T21:49:49Z INFO     Train Epoch: 2 [8960/60000 (45%)]\tloss=0.7282\n",
      "2024-03-05T21:49:54Z INFO     Train Epoch: 2 [10240/60000 (51%)]\tloss=0.7196\n",
      "2024-03-05T21:49:57Z INFO     Train Epoch: 2 [11520/60000 (57%)]\tloss=0.7827\n",
      "2024-03-05T21:50:01Z INFO     Train Epoch: 2 [12800/60000 (64%)]\tloss=0.7565\n",
      "2024-03-05T21:50:05Z INFO     Train Epoch: 2 [14080/60000 (70%)]\tloss=0.7726\n",
      "2024-03-05T21:50:08Z INFO     Train Epoch: 2 [15360/60000 (76%)]\tloss=0.8723\n",
      "2024-03-05T21:50:12Z INFO     Train Epoch: 2 [16640/60000 (83%)]\tloss=0.6533\n",
      "2024-03-05T21:50:15Z INFO     Train Epoch: 2 [17920/60000 (89%)]\tloss=0.8277\n",
      "2024-03-05T21:50:19Z INFO     Train Epoch: 2 [19200/60000 (96%)]\tloss=0.6978\n",
      "2024-03-05T21:50:21Z INFO     Training is finished\n",
      "\n"
     ]
    }
   ],
   "source": [
    "logs, _ = training_client.get_job_logs(pytorchjob_name)\n",
    "\n",
    "print(logs[\"train-pytorch-master-0\"])"
   ]
  },
  {
   "cell_type": "markdown",
   "id": "17b0ca43-1936-4708-b03b-3ab9ac2bbdea",
   "metadata": {},
   "source": [
    "## Delete PyTorchJob\n",
    "\n",
    "When PyTorchJob is finished, you can delete the resource."
   ]
  },
  {
   "cell_type": "code",
   "execution_count": 9,
   "id": "32ae88fd-5b5d-4ba1-a560-9a35c5ac17de",
   "metadata": {
    "execution": {
     "iopub.execute_input": "2024-03-05T21:50:49.741925Z",
     "iopub.status.busy": "2024-03-05T21:50:49.741582Z",
     "iopub.status.idle": "2024-03-05T21:50:49.772285Z",
     "shell.execute_reply": "2024-03-05T21:50:49.771323Z",
     "shell.execute_reply.started": "2024-03-05T21:50:49.741904Z"
    },
    "tags": []
   },
   "outputs": [],
   "source": [
    "training_client.delete_job(pytorchjob_name)"
   ]
  },
  {
   "cell_type": "code",
   "execution_count": null,
   "id": "b9641e9f-551d-44d5-872b-002fffaedcef",
   "metadata": {},
   "outputs": [],
   "source": []
  }
 ],
 "metadata": {
  "kernelspec": {
   "display_name": "Python 3 (ipykernel)",
   "language": "python",
   "name": "python3"
  },
  "language_info": {
   "codemirror_mode": {
    "name": "ipython",
    "version": 3
   },
   "file_extension": ".py",
   "mimetype": "text/x-python",
   "name": "python",
   "nbconvert_exporter": "python",
   "pygments_lexer": "ipython3",
   "version": "3.9.12"
  }
 },
 "nbformat": 4,
 "nbformat_minor": 5
}
