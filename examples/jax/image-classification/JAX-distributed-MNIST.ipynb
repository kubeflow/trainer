{
 "cells": [
  {
   "cell_type": "markdown",
   "id": "c782527a",
   "metadata": {},
   "source": [
    "# Distributed Handwritten CNN Digit Classifier based on MNIST with JAX on Kubeflow Trainer V2"
   ]
  },
  {
   "cell_type": "markdown",
   "id": "4419e6be",
   "metadata": {},
   "source": [
    "This notebook will train a CNN model written with JAX on a Kubernetes cluster. \n",
    "\n",
    "For futher information on distributed training with JAX, check out: https://docs.jax.dev/en/latest/multi_process.html#kubernetes-example\n",
    "\n",
    "To Setup a local cluster with miniKube, check out: https://minikube.sigs.k8s.io/docs/"
   ]
  },
  {
   "cell_type": "markdown",
   "id": "4e0fb05d",
   "metadata": {},
   "source": [
    "## Setup"
   ]
  },
  {
   "cell_type": "markdown",
   "id": "0990f1f2",
   "metadata": {},
   "source": [
    "We install Kubeflow Trainer SDK from PyPi"
   ]
  },
  {
   "cell_type": "code",
   "execution_count": null,
   "id": "3d643e39",
   "metadata": {},
   "outputs": [],
   "source": [
    "%pip install kubeflow"
   ]
  },
  {
   "cell_type": "markdown",
   "id": "362bce08",
   "metadata": {},
   "source": [
    "## Create JAX training function\n",
    "\n",
    "We need to wrap our training script in a python function, then we can pass it to `CustomTrainer` to create Kubeflow TrainJob."
   ]
  },
  {
   "cell_type": "code",
   "execution_count": 1,
   "id": "235d9d46",
   "metadata": {},
   "outputs": [],
   "source": [
    "def jax_train_mnist():\n",
    "    # TODO(mahdi): move script from https://github.com/mahdikhashan/jax-experiments/blob/main/cnn_mnist.py\n",
    "    pass"
   ]
  },
  {
   "cell_type": "markdown",
   "id": "f4d8a6a5",
   "metadata": {},
   "source": [
    "## List Available KF Runtimes"
   ]
  },
  {
   "cell_type": "markdown",
   "id": "6bcffa2c",
   "metadata": {},
   "source": [
    "TODO"
   ]
  },
  {
   "cell_type": "code",
   "execution_count": 3,
   "id": "8e59dcf6",
   "metadata": {},
   "outputs": [
    {
     "ename": "ModuleNotFoundError",
     "evalue": "No module named 'kubeflow.trainer'",
     "output_type": "error",
     "traceback": [
      "\u001b[31m---------------------------------------------------------------------------\u001b[39m",
      "\u001b[31mModuleNotFoundError\u001b[39m                       Traceback (most recent call last)",
      "\u001b[36mCell\u001b[39m\u001b[36m \u001b[39m\u001b[32mIn[3]\u001b[39m\u001b[32m, line 1\u001b[39m\n\u001b[32m----> \u001b[39m\u001b[32m1\u001b[39m \u001b[38;5;28;01mfrom\u001b[39;00m\u001b[38;5;250m \u001b[39m\u001b[34;01mkubeflow\u001b[39;00m\u001b[34;01m.\u001b[39;00m\u001b[34;01mtrainer\u001b[39;00m\u001b[38;5;250m \u001b[39m\u001b[38;5;28;01mimport\u001b[39;00m TrainerClient, CustomTrainer\n\u001b[32m      3\u001b[39m \u001b[38;5;28;01mfor\u001b[39;00m r \u001b[38;5;129;01min\u001b[39;00m TrainerClient().list_runtimes():\n\u001b[32m      4\u001b[39m     \u001b[38;5;28mprint\u001b[39m(\u001b[33mf\u001b[39m\u001b[33m\"\u001b[39m\u001b[33mName: \u001b[39m\u001b[38;5;132;01m{\u001b[39;00mr.name\u001b[38;5;132;01m}\u001b[39;00m\u001b[33m, Framework: \u001b[39m\u001b[38;5;132;01m{\u001b[39;00mr.trainer.framework.value\u001b[38;5;132;01m}\u001b[39;00m\u001b[33m, Trainer Type: \u001b[39m\u001b[38;5;132;01m{\u001b[39;00mr.trainer.trainer_type.value\u001b[38;5;132;01m}\u001b[39;00m\u001b[38;5;130;01m\\n\u001b[39;00m\u001b[33m\"\u001b[39m)\n",
      "\u001b[31mModuleNotFoundError\u001b[39m: No module named 'kubeflow.trainer'"
     ]
    }
   ],
   "source": [
    "from kubeflow.trainer import TrainerClient, CustomTrainer\n",
    "\n",
    "for r in TrainerClient().list_runtimes():\n",
    "    print(f\"Name: {r.name}, Framework: {r.trainer.framework.value}, Trainer Type: {r.trainer.trainer_type.value}\\n\")\n",
    "    print(f\"Entrypoint: {r.trainer.entrypoint[:3]}\\n\")\n",
    "\n",
    "    if r.name == \"jax-distributed\":\n",
    "        mlx_runtime = r"
   ]
  },
  {
   "cell_type": "markdown",
   "id": "00b4d3b8",
   "metadata": {},
   "source": [
    "## Create TrainJob"
   ]
  },
  {
   "cell_type": "code",
   "execution_count": 2,
   "id": "c5e98d29",
   "metadata": {},
   "outputs": [
    {
     "ename": "NameError",
     "evalue": "name 'TrainerClient' is not defined",
     "output_type": "error",
     "traceback": [
      "\u001b[31m---------------------------------------------------------------------------\u001b[39m",
      "\u001b[31mNameError\u001b[39m                                 Traceback (most recent call last)",
      "\u001b[36mCell\u001b[39m\u001b[36m \u001b[39m\u001b[32mIn[2]\u001b[39m\u001b[32m, line 1\u001b[39m\n\u001b[32m----> \u001b[39m\u001b[32m1\u001b[39m job_id = \u001b[43mTrainerClient\u001b[49m().train(\n\u001b[32m      2\u001b[39m     trainer=CustomTrainer(\n\u001b[32m      3\u001b[39m         func=mlx_train_mnist,\n\u001b[32m      4\u001b[39m         func_args=args,\n\u001b[32m      5\u001b[39m         num_nodes=\u001b[32m3\u001b[39m,\n\u001b[32m      6\u001b[39m     ),\n\u001b[32m      7\u001b[39m     runtime=mlx_runtime,\n\u001b[32m      8\u001b[39m )\n",
      "\u001b[31mNameError\u001b[39m: name 'TrainerClient' is not defined"
     ]
    }
   ],
   "source": [
    "job_id = TrainerClient().train(\n",
    "    trainer=CustomTrainer(\n",
    "        func=mlx_train_mnist,\n",
    "        func_args=args,\n",
    "        num_nodes=3,\n",
    "    ),\n",
    "    runtime=mlx_runtime,\n",
    ")"
   ]
  },
  {
   "cell_type": "code",
   "execution_count": 4,
   "id": "02d4cae6",
   "metadata": {},
   "outputs": [
    {
     "ename": "NameError",
     "evalue": "name 'job_id' is not defined",
     "output_type": "error",
     "traceback": [
      "\u001b[31m---------------------------------------------------------------------------\u001b[39m",
      "\u001b[31mNameError\u001b[39m                                 Traceback (most recent call last)",
      "\u001b[36mCell\u001b[39m\u001b[36m \u001b[39m\u001b[32mIn[4]\u001b[39m\u001b[32m, line 1\u001b[39m\n\u001b[32m----> \u001b[39m\u001b[32m1\u001b[39m \u001b[43mjob_id\u001b[49m\n",
      "\u001b[31mNameError\u001b[39m: name 'job_id' is not defined"
     ]
    }
   ],
   "source": [
    "job_id"
   ]
  },
  {
   "cell_type": "markdown",
   "id": "c1470c82",
   "metadata": {},
   "source": [
    "## Check TrainJob Info"
   ]
  },
  {
   "cell_type": "markdown",
   "id": "eab3e84b",
   "metadata": {},
   "source": [
    "We Use the `list_jobs()` and `get_job()` APIs to get information about created TrainJob and its steps."
   ]
  },
  {
   "cell_type": "code",
   "execution_count": 5,
   "id": "aff6c798",
   "metadata": {},
   "outputs": [
    {
     "ename": "NameError",
     "evalue": "name 'TrainerClient' is not defined",
     "output_type": "error",
     "traceback": [
      "\u001b[31m---------------------------------------------------------------------------\u001b[39m",
      "\u001b[31mNameError\u001b[39m                                 Traceback (most recent call last)",
      "\u001b[36mCell\u001b[39m\u001b[36m \u001b[39m\u001b[32mIn[5]\u001b[39m\u001b[32m, line 1\u001b[39m\n\u001b[32m----> \u001b[39m\u001b[32m1\u001b[39m \u001b[38;5;28;01mfor\u001b[39;00m job \u001b[38;5;129;01min\u001b[39;00m \u001b[43mTrainerClient\u001b[49m().list_jobs():\n\u001b[32m      2\u001b[39m     \u001b[38;5;28mprint\u001b[39m(\u001b[33mf\u001b[39m\u001b[33m\"\u001b[39m\u001b[33mTrainJob: \u001b[39m\u001b[38;5;132;01m{\u001b[39;00mjob.name\u001b[38;5;132;01m}\u001b[39;00m\u001b[33m, Status: \u001b[39m\u001b[38;5;132;01m{\u001b[39;00mjob.status\u001b[38;5;132;01m}\u001b[39;00m\u001b[33m, Created at: \u001b[39m\u001b[38;5;132;01m{\u001b[39;00mjob.creation_timestamp\u001b[38;5;132;01m}\u001b[39;00m\u001b[33m\"\u001b[39m)\n",
      "\u001b[31mNameError\u001b[39m: name 'TrainerClient' is not defined"
     ]
    }
   ],
   "source": [
    "for job in TrainerClient().list_jobs():\n",
    "    print(f\"TrainJob: {job.name}, Status: {job.status}, Created at: {job.creation_timestamp}\")"
   ]
  },
  {
   "cell_type": "code",
   "execution_count": 6,
   "id": "c2b4365b",
   "metadata": {},
   "outputs": [
    {
     "ename": "NameError",
     "evalue": "name 'TrainerClient' is not defined",
     "output_type": "error",
     "traceback": [
      "\u001b[31m---------------------------------------------------------------------------\u001b[39m",
      "\u001b[31mNameError\u001b[39m                                 Traceback (most recent call last)",
      "\u001b[36mCell\u001b[39m\u001b[36m \u001b[39m\u001b[32mIn[6]\u001b[39m\u001b[32m, line 1\u001b[39m\n\u001b[32m----> \u001b[39m\u001b[32m1\u001b[39m \u001b[38;5;28;01mfor\u001b[39;00m c \u001b[38;5;129;01min\u001b[39;00m \u001b[43mTrainerClient\u001b[49m().get_job(name=job_id).steps:\n\u001b[32m      2\u001b[39m     \u001b[38;5;28mprint\u001b[39m(\u001b[33mf\u001b[39m\u001b[33m\"\u001b[39m\u001b[33mStep: \u001b[39m\u001b[38;5;132;01m{\u001b[39;00mc.name\u001b[38;5;132;01m}\u001b[39;00m\u001b[33m, Status: \u001b[39m\u001b[38;5;132;01m{\u001b[39;00mc.status\u001b[38;5;132;01m}\u001b[39;00m\u001b[33m, Devices: \u001b[39m\u001b[38;5;132;01m{\u001b[39;00mc.device\u001b[38;5;132;01m}\u001b[39;00m\u001b[33m x \u001b[39m\u001b[38;5;132;01m{\u001b[39;00mc.device_count\u001b[38;5;132;01m}\u001b[39;00m\u001b[38;5;130;01m\\n\u001b[39;00m\u001b[33m\"\u001b[39m)\n",
      "\u001b[31mNameError\u001b[39m: name 'TrainerClient' is not defined"
     ]
    }
   ],
   "source": [
    "for c in TrainerClient().get_job(name=job_id).steps:\n",
    "    print(f\"Step: {c.name}, Status: {c.status}, Devices: {c.device} x {c.device_count}\\n\")"
   ]
  },
  {
   "cell_type": "markdown",
   "id": "675e3427",
   "metadata": {},
   "source": [
    "## Get TrainJob logs"
   ]
  },
  {
   "cell_type": "markdown",
   "id": "195a2de3",
   "metadata": {},
   "source": [
    "We Use the `get_job_logs()` API to retrieve the TrainJob logs.\n",
    "\n",
    "Since we distribute the dataset across 2 nodes, each rank processes `round(60,000 / 2) = 30,000` samples."
   ]
  },
  {
   "cell_type": "code",
   "execution_count": 9,
   "id": "60edf4ca",
   "metadata": {},
   "outputs": [
    {
     "ename": "NameError",
     "evalue": "name 'TrainerClient' is not defined",
     "output_type": "error",
     "traceback": [
      "\u001b[31m---------------------------------------------------------------------------\u001b[39m",
      "\u001b[31mNameError\u001b[39m                                 Traceback (most recent call last)",
      "\u001b[36mCell\u001b[39m\u001b[36m \u001b[39m\u001b[32mIn[9]\u001b[39m\u001b[32m, line 1\u001b[39m\n\u001b[32m----> \u001b[39m\u001b[32m1\u001b[39m _ = \u001b[43mTrainerClient\u001b[49m().get_job_logs(name=job_id, follow=\u001b[38;5;28;01mTrue\u001b[39;00m)\n",
      "\u001b[31mNameError\u001b[39m: name 'TrainerClient' is not defined"
     ]
    }
   ],
   "source": [
    "_ = TrainerClient().get_job_logs(name=job_id, follow=True)"
   ]
  },
  {
   "cell_type": "markdown",
   "id": "cca09b9e",
   "metadata": {},
   "source": [
    "## Evaluate model performance"
   ]
  },
  {
   "cell_type": "code",
   "execution_count": 8,
   "id": "29377886",
   "metadata": {},
   "outputs": [],
   "source": [
    "# TODO(mahdi): implement me"
   ]
  }
 ],
 "metadata": {
  "kernelspec": {
   "display_name": "Python 3",
   "language": "python",
   "name": "python3"
  },
  "language_info": {
   "codemirror_mode": {
    "name": "ipython",
    "version": 3
   },
   "file_extension": ".py",
   "mimetype": "text/x-python",
   "name": "python",
   "nbconvert_exporter": "python",
   "pygments_lexer": "ipython3",
   "version": "3.12.8"
  }
 },
 "nbformat": 4,
 "nbformat_minor": 5
}
